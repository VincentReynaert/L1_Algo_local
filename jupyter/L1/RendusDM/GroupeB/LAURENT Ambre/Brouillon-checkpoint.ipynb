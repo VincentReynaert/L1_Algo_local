{
 "cells": [
  {
   "cell_type": "code",
   "execution_count": 1,
   "id": "dfa743b9",
   "metadata": {},
   "outputs": [
    {
     "data": {
      "text/plain": [
       "'le résultat est 10'"
      ]
     },
     "execution_count": 1,
     "metadata": {},
     "output_type": "execute_result"
    }
   ],
   "source": [
    "\"le résultat est \" + str(10+2^2*3)\n"
   ]
  },
  {
   "cell_type": "code",
   "execution_count": 2,
   "id": "9736344c",
   "metadata": {},
   "outputs": [
    {
     "ename": "ZeroDivisionError",
     "evalue": "division by zero",
     "output_type": "error",
     "traceback": [
      "\u001b[1;31m---------------------------------------------------------------------------\u001b[0m",
      "\u001b[1;31mZeroDivisionError\u001b[0m                         Traceback (most recent call last)",
      "\u001b[1;32mC:\\Users\\AMBREL~1\\AppData\\Local\\Temp/ipykernel_4408/530282560.py\u001b[0m in \u001b[0;36m<module>\u001b[1;34m\u001b[0m\n\u001b[1;32m----> 1\u001b[1;33m \u001b[1;36m1\u001b[0m\u001b[1;33m/\u001b[0m\u001b[1;33m(\u001b[0m\u001b[1;36m3\u001b[0m\u001b[1;33m//\u001b[0m\u001b[1;36m5\u001b[0m\u001b[1;33m)\u001b[0m\u001b[1;33m\u001b[0m\u001b[1;33m\u001b[0m\u001b[0m\n\u001b[0m",
      "\u001b[1;31mZeroDivisionError\u001b[0m: division by zero"
     ]
    }
   ],
   "source": [
    "1/(3//5)"
   ]
  },
  {
   "cell_type": "code",
   "execution_count": 3,
   "id": "25dcc708",
   "metadata": {},
   "outputs": [
    {
     "ename": "TypeError",
     "evalue": "can only concatenate str (not \"int\") to str",
     "output_type": "error",
     "traceback": [
      "\u001b[1;31m---------------------------------------------------------------------------\u001b[0m",
      "\u001b[1;31mTypeError\u001b[0m                                 Traceback (most recent call last)",
      "\u001b[1;32mC:\\Users\\AMBREL~1\\AppData\\Local\\Temp/ipykernel_4408/1327220354.py\u001b[0m in \u001b[0;36m<module>\u001b[1;34m\u001b[0m\n\u001b[1;32m----> 1\u001b[1;33m \u001b[1;34m\"le résultat est \"\u001b[0m \u001b[1;33m+\u001b[0m \u001b[1;36m42\u001b[0m\u001b[1;33m\u001b[0m\u001b[1;33m\u001b[0m\u001b[0m\n\u001b[0m",
      "\u001b[1;31mTypeError\u001b[0m: can only concatenate str (not \"int\") to str"
     ]
    }
   ],
   "source": [
    "\"le résultat est \" + 42"
   ]
  },
  {
   "cell_type": "code",
   "execution_count": 4,
   "id": "1701c90e",
   "metadata": {},
   "outputs": [
    {
     "ename": "ZeroDivisionError",
     "evalue": "division by zero",
     "output_type": "error",
     "traceback": [
      "\u001b[1;31m---------------------------------------------------------------------------\u001b[0m",
      "\u001b[1;31mZeroDivisionError\u001b[0m                         Traceback (most recent call last)",
      "\u001b[1;32mC:\\Users\\AMBREL~1\\AppData\\Local\\Temp/ipykernel_4408/2044356134.py\u001b[0m in \u001b[0;36m<module>\u001b[1;34m\u001b[0m\n\u001b[1;32m----> 1\u001b[1;33m \u001b[1;34m\"attention la division par zéro n'est pas valide\"\u001b[0m \u001b[1;33m+\u001b[0m\u001b[0mstr\u001b[0m\u001b[1;33m(\u001b[0m\u001b[1;36m42\u001b[0m\u001b[1;33m/\u001b[0m\u001b[1;33m(\u001b[0m\u001b[1;36m4\u001b[0m\u001b[1;33m-\u001b[0m\u001b[1;33m(\u001b[0m\u001b[1;36m2\u001b[0m\u001b[1;33m*\u001b[0m\u001b[1;36m2\u001b[0m\u001b[1;33m)\u001b[0m\u001b[1;33m)\u001b[0m\u001b[1;33m)\u001b[0m\u001b[1;33m\u001b[0m\u001b[1;33m\u001b[0m\u001b[0m\n\u001b[0m",
      "\u001b[1;31mZeroDivisionError\u001b[0m: division by zero"
     ]
    }
   ],
   "source": [
    "\"attention la division par zéro n'est pas valide\" +str(42/(4-(2*2)))"
   ]
  },
  {
   "cell_type": "code",
   "execution_count": 27,
   "id": "9968ade2",
   "metadata": {},
   "outputs": [
    {
     "name": "stdout",
     "output_type": "stream",
     "text": [
      "L'ennemi est mort\n"
     ]
    }
   ],
   "source": [
    "pv_ennemi = 5\n",
    "points_de_degats_joueur = 6\n",
    "pv_ennemi = pv_ennemi - points_de_degats_joueur\n",
    "if pv_ennemi>0: \n",
    "    print(\"L'ennemi n'est pas mort\")\n",
    "elif pv_ennemi==0: \n",
    "    print(\"L'ennemi est comateux\")\n",
    "else:\n",
    "    print(\"L'ennemi est mort\")"
   ]
  },
  {
   "cell_type": "code",
   "execution_count": 16,
   "id": "8c4a2e93",
   "metadata": {},
   "outputs": [
    {
     "name": "stdout",
     "output_type": "stream",
     "text": [
      "3\n"
     ]
    }
   ],
   "source": [
    "def nomDeMaFonction(param1,param2):\n",
    "  param1 = param1 + param2\n",
    "  return param1\n",
    "print(nomDeMaFonction(1,2))"
   ]
  },
  {
   "cell_type": "code",
   "execution_count": 15,
   "id": "67d31a38",
   "metadata": {},
   "outputs": [
    {
     "name": "stdout",
     "output_type": "stream",
     "text": [
      "2\n"
     ]
    }
   ],
   "source": [
    "def nomDeMaFonction(param):\n",
    "  param = param - 1\n",
    "  return param\n",
    "print(nomDeMaFonction(3))\n"
   ]
  },
  {
   "cell_type": "code",
   "execution_count": 13,
   "id": "65b90c92",
   "metadata": {},
   "outputs": [
    {
     "name": "stdout",
     "output_type": "stream",
     "text": [
      "None\n"
     ]
    }
   ],
   "source": [
    "def fonctionDeBase():\n",
    "  pass\n",
    "print(fonctionDeBase())"
   ]
  },
  {
   "cell_type": "code",
   "execution_count": 17,
   "id": "061170c6",
   "metadata": {},
   "outputs": [
    {
     "name": "stdout",
     "output_type": "stream",
     "text": [
      "Hello World !\n"
     ]
    }
   ],
   "source": [
    "print(\"Hello World !\")"
   ]
  },
  {
   "cell_type": "code",
   "execution_count": 26,
   "id": "73ed2d49",
   "metadata": {},
   "outputs": [
    {
     "name": "stdout",
     "output_type": "stream",
     "text": [
      "Hello World 1\n",
      "Hello World 2\n",
      "Hello World 3\n",
      "Hello World 4\n",
      "Hello World 5\n",
      "Hello World 6\n",
      "Hello World 7\n",
      "Hello World 8\n",
      "Hello World 9\n",
      "Hello World 10\n",
      "Hello World 11\n"
     ]
    }
   ],
   "source": [
    "for i in range (1,12):\n",
    "    print(\"Hello World\", i)\n"
   ]
  },
  {
   "cell_type": "code",
   "execution_count": 29,
   "id": "ecb6eef9",
   "metadata": {},
   "outputs": [
    {
     "name": "stdout",
     "output_type": "stream",
     "text": [
      "299\n",
      "296\n",
      "293\n",
      "290\n",
      "287\n",
      "284\n",
      "281\n",
      "278\n",
      "275\n",
      "272\n",
      "269\n",
      "266\n",
      "263\n",
      "260\n",
      "257\n",
      "254\n",
      "251\n",
      "248\n",
      "245\n",
      "242\n",
      "239\n",
      "236\n",
      "233\n",
      "230\n",
      "227\n",
      "224\n",
      "221\n",
      "218\n",
      "215\n",
      "212\n",
      "209\n",
      "206\n",
      "203\n",
      "200\n",
      "197\n",
      "194\n",
      "191\n",
      "188\n",
      "185\n",
      "182\n",
      "179\n",
      "176\n",
      "173\n",
      "170\n",
      "167\n",
      "164\n",
      "161\n",
      "158\n",
      "155\n",
      "152\n",
      "149\n",
      "146\n",
      "143\n",
      "140\n",
      "137\n",
      "134\n",
      "131\n",
      "128\n",
      "125\n",
      "122\n",
      "119\n",
      "116\n",
      "113\n",
      "110\n",
      "107\n",
      "104\n",
      "101\n",
      "98\n",
      "95\n",
      "92\n",
      "89\n",
      "86\n",
      "83\n",
      "80\n",
      "77\n",
      "74\n",
      "71\n",
      "68\n",
      "65\n",
      "62\n",
      "59\n",
      "56\n",
      "53\n",
      "50\n",
      "47\n",
      "44\n",
      "41\n",
      "38\n",
      "35\n",
      "32\n",
      "29\n",
      "26\n",
      "23\n",
      "20\n",
      "17\n",
      "14\n",
      "11\n",
      "8\n",
      "5\n",
      "2\n",
      "l’ennemi est mort\n"
     ]
    }
   ],
   "source": [
    "pv_ennemi = 299\n",
    "degat_joueur = 3\n",
    "while pv_ennemi > 0:\n",
    "    print(pv_ennemi)\n",
    "    pv_ennemi = pv_ennemi - degat_joueur\n",
    "print(\"l’ennemi est mort\")"
   ]
  },
  {
   "cell_type": "code",
   "execution_count": 32,
   "id": "0e7d80fa",
   "metadata": {},
   "outputs": [
    {
     "ename": "NameError",
     "evalue": "name 'ma_liste' is not defined",
     "output_type": "error",
     "traceback": [
      "\u001b[1;31m---------------------------------------------------------------------------\u001b[0m",
      "\u001b[1;31mNameError\u001b[0m                                 Traceback (most recent call last)",
      "\u001b[1;32mC:\\Users\\AMBREL~1\\AppData\\Local\\Temp/ipykernel_4408/3151481454.py\u001b[0m in \u001b[0;36m<module>\u001b[1;34m\u001b[0m\n\u001b[0;32m      1\u001b[0m \u001b[1;32mdef\u001b[0m \u001b[0mmean\u001b[0m\u001b[1;33m(\u001b[0m\u001b[0mma_liste\u001b[0m\u001b[1;33m)\u001b[0m\u001b[1;33m:\u001b[0m\u001b[1;33m\u001b[0m\u001b[1;33m\u001b[0m\u001b[0m\n\u001b[0;32m      2\u001b[0m     \u001b[0msomme\u001b[0m \u001b[1;33m=\u001b[0m \u001b[1;36m0\u001b[0m\u001b[1;33m\u001b[0m\u001b[1;33m\u001b[0m\u001b[0m\n\u001b[1;32m----> 3\u001b[1;33m \u001b[1;32mfor\u001b[0m \u001b[0melement\u001b[0m \u001b[1;32min\u001b[0m \u001b[0mma_liste\u001b[0m\u001b[1;33m:\u001b[0m\u001b[1;33m\u001b[0m\u001b[1;33m\u001b[0m\u001b[0m\n\u001b[0m\u001b[0;32m      4\u001b[0m     \u001b[0msomme\u001b[0m \u001b[1;33m=\u001b[0m \u001b[0msomme\u001b[0m \u001b[1;33m+\u001b[0m \u001b[0melement\u001b[0m\u001b[1;33m\u001b[0m\u001b[1;33m\u001b[0m\u001b[0m\n\u001b[0;32m      5\u001b[0m     \u001b[0mresultat\u001b[0m \u001b[1;33m=\u001b[0m \u001b[0msomme\u001b[0m \u001b[1;33m/\u001b[0m \u001b[0mlen\u001b[0m\u001b[1;33m(\u001b[0m\u001b[0mma_liste\u001b[0m\u001b[1;33m)\u001b[0m\u001b[1;33m\u001b[0m\u001b[1;33m\u001b[0m\u001b[0m\n",
      "\u001b[1;31mNameError\u001b[0m: name 'ma_liste' is not defined"
     ]
    }
   ],
   "source": [
    "def mean(ma_liste):\n",
    "    somme = 0\n",
    "for element in ma_liste:\n",
    "    somme = somme + element\n",
    "    resultat = somme / len(ma_liste)\n",
    "return resultat\n"
   ]
  },
  {
   "cell_type": "code",
   "execution_count": 37,
   "id": "4b5ccaa1",
   "metadata": {},
   "outputs": [
    {
     "name": "stdout",
     "output_type": "stream",
     "text": [
      "donne un minimum entier :2\n",
      "donne un maxmimum entier :12\n",
      "7\n"
     ]
    }
   ],
   "source": [
    "def milieu(nbMin,nbMax):\n",
    "    z = (nbMin + nbMax)//2\n",
    "    print(z)\n",
    "    \n",
    "x = eval(input(\"donne un minimum entier :\"))\n",
    "y = eval(input(\"donne un maxmimum entier :\"))\n",
    "milieu(x, y)"
   ]
  },
  {
   "cell_type": "code",
   "execution_count": 39,
   "id": "e161cd64",
   "metadata": {},
   "outputs": [
    {
     "name": "stdout",
     "output_type": "stream",
     "text": [
      "590.25\n"
     ]
    }
   ],
   "source": [
    "def mean(maListe):\n",
    "    x = sum(maListe)\n",
    "    y = len(maListe)\n",
    "    print(x/y)\n",
    "    \n",
    "mean([17,230,290,1824])"
   ]
  },
  {
   "cell_type": "code",
   "execution_count": 52,
   "id": "2289b067",
   "metadata": {
    "scrolled": false
   },
   "outputs": [
    {
     "name": "stdout",
     "output_type": "stream",
     "text": [
      "Quelle est la réponse ?z\n",
      "La réponse est un nombre. Merci de ne pas entrer d'autres caractères que des chiffres.\n",
      "Quelle est la réponse ?32\n",
      "Ceci n'est pas la bonne réponse\n",
      "Quelle est la réponse ?42\n",
      "Bravo vous avez trouvé la réponse!\n"
     ]
    },
    {
     "data": {
      "text/plain": [
       "True"
      ]
     },
     "execution_count": 52,
     "metadata": {},
     "output_type": "execute_result"
    }
   ],
   "source": [
    "def nombreATrouver():\n",
    "    user_input = 0\n",
    "    while user_input != 42: \n",
    "        user_input = input(\"Quelle est la réponse ?\")\n",
    "        if user_input.isdigit() == False:\n",
    "            print(\"La réponse est un nombre. Merci de ne pas entrer d'autres caractères que des chiffres.\")\n",
    "        elif int(user_input) != 42:\n",
    "            print(\"Ceci n'est pas la bonne réponse\")\n",
    "        else:\n",
    "            print(\"Bravo vous avez trouvé la réponse!\")\n",
    "            return True\n",
    "nombreATrouver()"
   ]
  },
  {
   "cell_type": "code",
   "execution_count": 182,
   "id": "ddde672f",
   "metadata": {},
   "outputs": [],
   "source": [
    "from turtle import*\n",
    "bgcolor(\"Gray\")\n",
    "up()\n",
    "goto(-250,0)\n",
    "down()\n",
    "width(5)\n",
    "fillcolor('Gold')\n",
    "begin_fill()\n",
    "left(90)\n",
    "forward(250)\n",
    "backward(750)\n",
    "right(90)\n",
    "forward(500)\n",
    "left(90)\n",
    "forward(750)\n",
    "backward(250)\n",
    "left(90)\n",
    "width(3)\n",
    "forward(50)\n",
    "right(90)\n",
    "forward(50)\n",
    "left(90)\n",
    "forward(50)\n",
    "left(90)\n",
    "forward(50)\n",
    "right(90)\n",
    "forward(50)\n",
    "right(90)\n",
    "forward(50)\n",
    "left(90)\n",
    "forward(50)\n",
    "left(90)\n",
    "forward(50)\n",
    "right(90)\n",
    "forward(50)\n",
    "right(90)\n",
    "forward(50)\n",
    "left(90)\n",
    "forward(50)\n",
    "left(90)\n",
    "forward(50)\n",
    "right(90)\n",
    "forward(50)\n",
    "right(90)\n",
    "forward(50)\n",
    "left(90)\n",
    "forward(50)\n",
    "left(90)\n",
    "forward(50)\n",
    "right(90)\n",
    "forward(50)\n",
    "right(90)\n",
    "forward(50)\n",
    "left(90)\n",
    "forward(50)\n",
    "left(90)\n",
    "forward(50)\n",
    "end_fill()\n",
    "up()\n",
    "goto(150,300)\n",
    "down()\n",
    "pencolor('Gold')\n",
    "fillcolor('Gold')\n",
    "begin_fill()\n",
    "circle(50)\n",
    "end_fill()\n",
    "up()\n",
    "goto(160,300)\n",
    "down()\n",
    "pencolor('White')\n",
    "fillcolor('White')\n",
    "begin_fill()\n",
    "circle(20)\n",
    "end_fill()\n",
    "up()\n",
    "goto(-120,360)\n",
    "down()\n",
    "pencolor('Gold')\n",
    "fillcolor('Gold')\n",
    "begin_fill()\n",
    "circle(45)\n",
    "end_fill()\n",
    "up()\n",
    "goto(-90,365)\n",
    "down()\n",
    "pencolor('White')\n",
    "fillcolor('White')\n",
    "begin_fill()\n",
    "circle(18)\n",
    "end_fill()\n",
    "up()\n",
    "goto(-160,480)\n",
    "down()\n",
    "pencolor('Gold')\n",
    "fillcolor('Gold')\n",
    "begin_fill()\n",
    "circle(42)\n",
    "end_fill()\n",
    "up()\n",
    "goto(-155,470)\n",
    "down()\n",
    "pencolor('White')\n",
    "fillcolor('White')\n",
    "begin_fill()\n",
    "circle(15)\n",
    "end_fill()\n",
    "up()\n",
    "goto(40,450)\n",
    "down()\n",
    "pencolor('Gold')\n",
    "fillcolor('Gold')\n",
    "begin_fill()\n",
    "circle(47)\n",
    "end_fill()\n",
    "up()\n",
    "goto(49,442)\n",
    "down()\n",
    "pencolor('White')\n",
    "fillcolor('White')\n",
    "begin_fill()\n",
    "circle(8)\n",
    "end_fill()\n",
    "up()\n",
    "pencolor('black')\n",
    "goto(-250,200)\n",
    "down()\n",
    "fillcolor('white')\n",
    "begin_fill()\n",
    "left(90)\n",
    "forward(500)\n",
    "width(5)\n",
    "right(90)\n",
    "forward(200)\n",
    "right(90)\n",
    "width(3)\n",
    "forward(50)\n",
    "right(90)\n",
    "forward(50)\n",
    "left(90)\n",
    "forward(50)\n",
    "left(90)\n",
    "forward(50)\n",
    "right(90)\n",
    "forward(50)\n",
    "right(90)\n",
    "forward(50)\n",
    "left(90)\n",
    "forward(50)\n",
    "left(90)\n",
    "forward(50)\n",
    "right(90)\n",
    "forward(50)\n",
    "right(90)\n",
    "forward(50)\n",
    "left(90)\n",
    "forward(50)\n",
    "left(90)\n",
    "forward(50)\n",
    "right(90)\n",
    "forward(50)\n",
    "right(90)\n",
    "forward(50)\n",
    "left(90)\n",
    "forward(50)\n",
    "left(90)\n",
    "forward(50)\n",
    "right(90)\n",
    "forward(50)\n",
    "right(90)\n",
    "forward(50)\n",
    "left(90)\n",
    "forward(50)\n",
    "left(90)\n",
    "forward(50)\n",
    "width(5)\n",
    "right(180)\n",
    "forward(200)\n",
    "end_fill()\n",
    "up()\n",
    "goto(-600,380)\n",
    "down()\n",
    "write('SANTE!!!', font=('Arial',42))\n",
    "up()\n",
    "goto(-600,300)\n",
    "down()\n",
    "write('(Bonne bière monsieur!)', font=('Arial',28))\n",
    "done()"
   ]
  },
  {
   "cell_type": "code",
   "execution_count": 189,
   "id": "baf510c3",
   "metadata": {},
   "outputs": [
    {
     "ename": "FileNotFoundError",
     "evalue": "[Errno 2] No such file or directory: 'rLVPWb6h.jpg'",
     "output_type": "error",
     "traceback": [
      "\u001b[1;31m---------------------------------------------------------------------------\u001b[0m",
      "\u001b[1;31mFileNotFoundError\u001b[0m                         Traceback (most recent call last)",
      "\u001b[1;32mC:\\Users\\AMBREL~1\\AppData\\Local\\Temp/ipykernel_4408/2214357526.py\u001b[0m in \u001b[0;36m<module>\u001b[1;34m\u001b[0m\n\u001b[0;32m     28\u001b[0m     \u001b[0mgrayscale_array\u001b[0m \u001b[1;33m=\u001b[0m \u001b[0mnp\u001b[0m\u001b[1;33m.\u001b[0m\u001b[0masarray\u001b[0m\u001b[1;33m(\u001b[0m\u001b[0mimg\u001b[0m\u001b[1;33m)\u001b[0m\u001b[1;33m\u001b[0m\u001b[1;33m\u001b[0m\u001b[0m\n\u001b[0;32m     29\u001b[0m     \u001b[1;32mreturn\u001b[0m \u001b[0mgrayscale_array\u001b[0m\u001b[1;33m\u001b[0m\u001b[1;33m\u001b[0m\u001b[0m\n\u001b[1;32m---> 30\u001b[1;33m \u001b[0mgray_array\u001b[0m \u001b[1;33m=\u001b[0m \u001b[0mconvertImageToGrayArray\u001b[0m\u001b[1;33m(\u001b[0m\u001b[1;33m)\u001b[0m\u001b[1;33m\u001b[0m\u001b[1;33m\u001b[0m\u001b[0m\n\u001b[0m\u001b[0;32m     31\u001b[0m \u001b[0mprint\u001b[0m\u001b[1;33m(\u001b[0m\u001b[0mgray_array\u001b[0m\u001b[1;33m)\u001b[0m\u001b[1;33m\u001b[0m\u001b[1;33m\u001b[0m\u001b[0m\n\u001b[0;32m     32\u001b[0m \u001b[0mplt\u001b[0m\u001b[1;33m.\u001b[0m\u001b[0mimshow\u001b[0m\u001b[1;33m(\u001b[0m\u001b[0mgray_array\u001b[0m\u001b[1;33m,\u001b[0m \u001b[0mcmap\u001b[0m\u001b[1;33m=\u001b[0m\u001b[1;34m\"gray\"\u001b[0m\u001b[1;33m)\u001b[0m\u001b[1;33m\u001b[0m\u001b[1;33m\u001b[0m\u001b[0m\n",
      "\u001b[1;32mC:\\Users\\AMBREL~1\\AppData\\Local\\Temp/ipykernel_4408/2214357526.py\u001b[0m in \u001b[0;36mconvertImageToGrayArray\u001b[1;34m(imgFile, nombre_pixels)\u001b[0m\n\u001b[0;32m     24\u001b[0m \u001b[1;33m\u001b[0m\u001b[0m\n\u001b[0;32m     25\u001b[0m \u001b[1;32mdef\u001b[0m \u001b[0mconvertImageToGrayArray\u001b[0m\u001b[1;33m(\u001b[0m\u001b[0mimgFile\u001b[0m \u001b[1;33m=\u001b[0m \u001b[1;34m\"rLVPWb6h.jpg\"\u001b[0m\u001b[1;33m,\u001b[0m\u001b[0mnombre_pixels\u001b[0m \u001b[1;33m=\u001b[0m \u001b[1;36m64\u001b[0m\u001b[1;33m)\u001b[0m\u001b[1;33m:\u001b[0m\u001b[1;33m\u001b[0m\u001b[1;33m\u001b[0m\u001b[0m\n\u001b[1;32m---> 26\u001b[1;33m     \u001b[0mimg\u001b[0m \u001b[1;33m=\u001b[0m \u001b[0mImage\u001b[0m\u001b[1;33m.\u001b[0m\u001b[0mopen\u001b[0m\u001b[1;33m(\u001b[0m\u001b[0mimgFile\u001b[0m\u001b[1;33m)\u001b[0m\u001b[1;33m.\u001b[0m\u001b[0mconvert\u001b[0m\u001b[1;33m(\u001b[0m\u001b[1;34m'L'\u001b[0m\u001b[1;33m)\u001b[0m\u001b[1;33m\u001b[0m\u001b[1;33m\u001b[0m\u001b[0m\n\u001b[0m\u001b[0;32m     27\u001b[0m     \u001b[0mimg\u001b[0m\u001b[1;33m.\u001b[0m\u001b[0mthumbnail\u001b[0m\u001b[1;33m(\u001b[0m\u001b[1;33m(\u001b[0m\u001b[0mnombre_pixels\u001b[0m\u001b[1;33m,\u001b[0m \u001b[0mnombre_pixels\u001b[0m\u001b[1;33m)\u001b[0m\u001b[1;33m,\u001b[0m \u001b[0mImage\u001b[0m\u001b[1;33m.\u001b[0m\u001b[0mANTIALIAS\u001b[0m\u001b[1;33m)\u001b[0m\u001b[1;33m\u001b[0m\u001b[1;33m\u001b[0m\u001b[0m\n\u001b[0;32m     28\u001b[0m     \u001b[0mgrayscale_array\u001b[0m \u001b[1;33m=\u001b[0m \u001b[0mnp\u001b[0m\u001b[1;33m.\u001b[0m\u001b[0masarray\u001b[0m\u001b[1;33m(\u001b[0m\u001b[0mimg\u001b[0m\u001b[1;33m)\u001b[0m\u001b[1;33m\u001b[0m\u001b[1;33m\u001b[0m\u001b[0m\n",
      "\u001b[1;32m~\\anaconda3\\lib\\site-packages\\PIL\\Image.py\u001b[0m in \u001b[0;36mopen\u001b[1;34m(fp, mode, formats)\u001b[0m\n\u001b[0;32m   2973\u001b[0m \u001b[1;33m\u001b[0m\u001b[0m\n\u001b[0;32m   2974\u001b[0m     \u001b[1;32mif\u001b[0m \u001b[0mfilename\u001b[0m\u001b[1;33m:\u001b[0m\u001b[1;33m\u001b[0m\u001b[1;33m\u001b[0m\u001b[0m\n\u001b[1;32m-> 2975\u001b[1;33m         \u001b[0mfp\u001b[0m \u001b[1;33m=\u001b[0m \u001b[0mbuiltins\u001b[0m\u001b[1;33m.\u001b[0m\u001b[0mopen\u001b[0m\u001b[1;33m(\u001b[0m\u001b[0mfilename\u001b[0m\u001b[1;33m,\u001b[0m \u001b[1;34m\"rb\"\u001b[0m\u001b[1;33m)\u001b[0m\u001b[1;33m\u001b[0m\u001b[1;33m\u001b[0m\u001b[0m\n\u001b[0m\u001b[0;32m   2976\u001b[0m         \u001b[0mexclusive_fp\u001b[0m \u001b[1;33m=\u001b[0m \u001b[1;32mTrue\u001b[0m\u001b[1;33m\u001b[0m\u001b[1;33m\u001b[0m\u001b[0m\n\u001b[0;32m   2977\u001b[0m \u001b[1;33m\u001b[0m\u001b[0m\n",
      "\u001b[1;31mFileNotFoundError\u001b[0m: [Errno 2] No such file or directory: 'rLVPWb6h.jpg'"
     ]
    }
   ],
   "source": [
    "%matplotlib inline\n",
    "import matplotlib.pyplot as plt\n",
    "import matplotlib.image as mpimg\n",
    "import numpy as np\n",
    "from PIL import Image\n",
    "def pixelChosen(pixelValue):\n",
    "    if pixelvalue < 32:\n",
    "        return \"#\"\n",
    "    elif pixelvalue < 64:\n",
    "        return \"@\"\n",
    "    elif pixelvalue < 96:\n",
    "        return \"0\"\n",
    "    elif pixelvalue < 128:\n",
    "        return \"x\"\n",
    "    elif pixelvalue < 160:\n",
    "        return \"*\"\n",
    "    elif pixelvalue < 192:\n",
    "        return \".\"\n",
    "    elif pixelvalue < 224:\n",
    "        return \"-\"\n",
    "    else: \n",
    "        return \"~\" \n",
    "\n",
    "    \n",
    "def convertImageToGrayArray(imgFile = \"rLVPWb6h.jpg\",nombre_pixels = 64):\n",
    "    img = Image.open(imgFile).convert('L')\n",
    "    img.thumbnail((nombre_pixels, nombre_pixels), Image.ANTIALIAS)\n",
    "    grayscale_array = np.asarray(img) \n",
    "    return grayscale_array\n",
    "gray_array = convertImageToGrayArray()  \n",
    "print(gray_array)\n",
    "plt.imshow(gray_array, cmap=\"gray\")"
   ]
  },
  {
   "cell_type": "code",
   "execution_count": null,
   "id": "5e335ec1",
   "metadata": {},
   "outputs": [],
   "source": []
  }
 ],
 "metadata": {
  "kernelspec": {
   "display_name": "Python 3 (ipykernel)",
   "language": "python",
   "name": "python3"
  },
  "language_info": {
   "codemirror_mode": {
    "name": "ipython",
    "version": 3
   },
   "file_extension": ".py",
   "mimetype": "text/x-python",
   "name": "python",
   "nbconvert_exporter": "python",
   "pygments_lexer": "ipython3",
   "version": "3.9.7"
  }
 },
 "nbformat": 4,
 "nbformat_minor": 5
}
