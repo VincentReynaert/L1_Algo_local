{
 "cells": [
  {
   "cell_type": "markdown",
   "id": "9d737ace",
   "metadata": {},
   "source": [
    "Charles, Piercourt, Groupe B\n",
    "\n",
    "<eventuelles autres personnes ayant travaillé avec vous>\n",
    "\n",
    "# DM d'Algorithmie\n",
    "\n",
    "Bonjour, \n",
    "\n",
    "Ce Devoir Maison d'algorithmie sera noté et comptera pour moitié de la note de Contrôle Continu avec la note sur le projet de jeu textuel que vous aurez à réaliser.\n",
    "\n",
    "## Etape 1 : Renommer\n",
    "Dans un premier temps merci de renommer ce fichier comme suit :\n",
    "\n",
    "DM_Algo_groupeX_prenom_nom\n",
    "\n",
    "où X correspond à la lettre de votre groupe à savoir A, B ou C.\n",
    "\n",
    "Pour cela soit vous modifier directement le nom du fichier dans l'explorateur de fichier soit vous allez sur File>Rename.\n",
    "\n",
    "## Etape 2 : Ajouter Prenom Nom au début de la feuille\n",
    "\n",
    "Remplacer le \"prenom, nom, Groupe X\" écrit en haut de cette cellule.\n",
    "\n",
    "ex : Vincent, Reynaert, Groupe P\n",
    "\n",
    "Pour cela double cliquez sur la cellule. Une fois la modification apportée l'appliquer en appuyant sur le bouton Exécuter ou avec le raccourci clavier Ctrl+Enter\n",
    "\n",
    "## Etape 3 : Répondre aux QCM\n",
    "\n",
    "Pour répondre aux QCM merci de suivre la méthode suivante :\n",
    "\n",
    "* Pour répondre à ce QCM il faudra afficher la/les réponses via un print. ex Si la réponse est A,B et D alors il faudra écrire **print(\"ABD\")**\n",
    "* A chaque cellule Markdown de question correspond une cellule python de réponse où il sera indiqué en commentaire le numéro de la question correspondante.\n",
    "\n",
    "Vous pourrez également vous référer à l'exemple Question 0.\n",
    "\n",
    "Le non-respect de ces directives **entraîne un malus** sur la note finale.\n",
    "\n",
    "__Un QCM est un questionnaire à CHOIX MULTIPLES__ Plusieurs réponses sont donc parfois possible !\n",
    "* Une question peut avoir **une ou plusieurs**réponses. \n",
    "* Une réponse fausse, l’absence de réponse et la sélection d’une réponse fausse avec une réponse bonne vaudront **0 point** pour la question associée. \n",
    "* Une réponse partielle à la question (ex : donner une seule réponse lorsque plusieurs sont attendue) vaudra **le pourcentage de points associés** à cette réponse (ex : bonne réponse est ABC, vous répondez A, vous aurez ⅓ de point sur cette question).\n",
    "* Si toutes les réponses sont sélectionnées pour une question **des points négatifs** seront comptabilisés.\n",
    "\n",
    "## Etape 4 : Réponde aux questions ouvertes de code Python\n",
    "\n",
    "__Lisez attentivement la consigne pour chacune de ces questions !__\n",
    "\n",
    "## Etape 5 : Rendu du DM\n",
    "\n",
    "Le rendu attendu est ce fichier que vous aurez modifié en suivant les consignes ci-dessus.\n",
    "\n",
    "Il devra être déposé sur le disk partagé L1A,B ou C dépendamment de votre groupe.\n",
    "\n",
    "## ATTENTION\n",
    "\n",
    "Merci de ne pas tricher en recopiant bêtement le fichier du collègue. **Un malus sera appliqué aux deux rendus jugé trop proches/identiques.**\n",
    "\n",
    "Merci également dans le cas où vous auriez travaillé ce DM par binôme ou trinôme de le préciser en haut de cette cellule en indiquant le prénom et nom et groupe de la/les personne.s avec qui vous avez collaboré. Cependant le rendu reste individuel et on évite donc les copier coller avec les mêmes erreurs que ses camarades.\n",
    "\n",
    "## NB 1\n",
    "\n",
    "Si certaines notions de ce DM n'ont pas encore été abordée en cours (dépendamment de votre groupe nous sommes plus ou moins avancés) merci de le préciser dans un commentaire (utilisez #), mais d'essayer tout de même de répondre à la question en se référant aux slides du cours (ou toutes autres resources en ligne) :  https://docs.google.com/presentation/d/193qqeLBneT02sMBcREZZjqO2LFeL0fK6PC94U5s-EI4/edit?usp=sharing\n",
    "\n",
    "### NB 2\n",
    "\n",
    "La cellule que j'ai utilisé ici est de type Markdown. Il s'agit d'un langage balisé comme le HTML. Ce n'est pas un langage de programmation et donc il ne s'agit pas de code informatique.\n",
    "\n",
    "Aussi le Markdown possède une syntaxe particulière comme vous le remarquerez probablement lorsque vous double-cliquerez sur la cellule pour la modifier.\n",
    "\n",
    "#### Astuce\n",
    "\n",
    "N'oubliez pas que vous êtes dans un éditeur de code...\n",
    "\n",
    "### NB 3\n",
    "\n",
    "Bon courage pour ce DM"
   ]
  },
  {
   "cell_type": "markdown",
   "id": "f72f26be",
   "metadata": {},
   "source": [
    "## QCM"
   ]
  },
  {
   "cell_type": "markdown",
   "id": "2f6cdc13",
   "metadata": {},
   "source": [
    "### Question 0\n",
    "Parmis les affirmations suivantes la/lesquelle.s est/sont vraie.s ?\n",
    "* A. Toujours donner la même réponse à un QCM est forcément un bon choix.\n",
    "* B. Lire les consignes ne sert à rien et fait perdre du temps autant y aller directement.\n",
    "* C. Pour répondre à ce QCM il faudra afficher la/les réponses via un print.\n",
    "* D. A chaque cellule Markdown de question correspond une cellule python de réponse où il sera indiqué en commentaire le numéro de la question correspondante."
   ]
  },
  {
   "cell_type": "code",
   "execution_count": 1,
   "id": "64b3817e",
   "metadata": {},
   "outputs": [
    {
     "name": "stdout",
     "output_type": "stream",
     "text": [
      "CD\n"
     ]
    }
   ],
   "source": [
    "#Réponse 0\n",
    "print(\"CD\")"
   ]
  },
  {
   "cell_type": "markdown",
   "id": "6dbd3a22",
   "metadata": {},
   "source": [
    "### Question 1\n",
    "Un algorithme c'est :\n",
    "* A. un programme informatique.\n",
    "* B. une suite d'instructions et d’opérations sans ordre précis permettant de résoudre certains problèmes ou d’effectuer certaines actions.\n",
    "* C. une recette de cuisine.\n",
    "* D. une suite finie et non ambiguë d'instructions et d’opérations permettant de résoudre certains problèmes ou d’effectuer certaines actions."
   ]
  },
  {
   "cell_type": "code",
   "execution_count": 2,
   "id": "20a53a10",
   "metadata": {},
   "outputs": [
    {
     "name": "stdout",
     "output_type": "stream",
     "text": [
      "\n"
     ]
    }
   ],
   "source": [
    "#Réponse 1\n",
    "print(\"ACD\")"
   ]
  },
  {
   "cell_type": "markdown",
   "id": "6e7e07c3",
   "metadata": {},
   "source": [
    "### Question 2\n",
    "Pour écrire un algorithme :\n",
    "* A. on peut utiliser une représentation graphique.\n",
    "* B. on doit l'écrire dans un langage informatique comme le Python.\n",
    "* C. on peut l'écrire en français grace à un pseudo langage.\n",
    "* D. on doit réfléchir aux procédures et aux décisions qui seront nécessaire pour le faire fonctionner."
   ]
  },
  {
   "cell_type": "code",
   "execution_count": 3,
   "id": "dd119fe4",
   "metadata": {},
   "outputs": [
    {
     "name": "stdout",
     "output_type": "stream",
     "text": [
      "\n"
     ]
    }
   ],
   "source": [
    "#Réponse 2\n",
    "print(\"BD\")"
   ]
  },
  {
   "cell_type": "markdown",
   "id": "8da2882c",
   "metadata": {},
   "source": [
    "### Question 3\n",
    "Soit l'algorithme suivant (si l'image ne s'affiche pas correctement merci de vous référer au fichier Algo_42.PNG disponible dans le dossier d'archive que je vous ai partagé) :\n",
    "\n",
    "![Diagram_42](Algo_42.png)\n",
    "\n",
    "Parmis les affirmations suivantes la/lesquelle.s est/sont vraie.s :\n",
    "* A. Cet algorithme vérifie si un utilisateur sait que La réponse universelle est 42 et le félicite si c'est le cas.\n",
    "* B. Ce diagramme n'est pas un algorithme.\n",
    "* C. Cet algorithme va demander en boucle à l'utilisateur d'entrer un nombre jusqu'à ce qu'il le fasse.\n",
    "* D. Cet algorithme calcule une moyenne."
   ]
  },
  {
   "cell_type": "code",
   "execution_count": 12,
   "id": "d5e8f135",
   "metadata": {},
   "outputs": [
    {
     "name": "stdout",
     "output_type": "stream",
     "text": [
      "\n"
     ]
    }
   ],
   "source": [
    "#Réponse 3\n",
    "print(\"AC\")"
   ]
  },
  {
   "cell_type": "markdown",
   "id": "30885bde",
   "metadata": {},
   "source": [
    "### Question 4\n",
    "#### Variables\n",
    "Parmis les affirmations suivantes la/lesquelle.s est/sont vraie.s :\n",
    "* A. Point de vie est un nom de variable acceptable.\n",
    "* B. La définition d'une variable c'est qu'elle varie.\n",
    "* C. Une variable c'est une sorte de carton avec une étiquette qui permet de stocker de la donnée.\n",
    "* D. Une variable qui est de type booléen stockera la valeur Vrai ou la valeur Faux."
   ]
  },
  {
   "cell_type": "code",
   "execution_count": 5,
   "id": "3f23532c",
   "metadata": {},
   "outputs": [
    {
     "name": "stdout",
     "output_type": "stream",
     "text": [
      "\n"
     ]
    }
   ],
   "source": [
    "#Réponse 4\n",
    "print(\"BCD\")"
   ]
  },
  {
   "cell_type": "markdown",
   "id": "981792bd",
   "metadata": {},
   "source": [
    "### Question 5\n",
    "#### Opérations\n",
    "Parmis les opérations (en python) suivantes la/lesquelle.s est/sont valide.s :\n",
    "* A. \"le résultat est \" + str(10+2^2*3)\n",
    "* B. 1/(3//5)\n",
    "* C. \"le résultat est \" + 42\n",
    "* D. \"attention la division par zéro n'est pas valide\" +str(42/(4-(2*2)))"
   ]
  },
  {
   "cell_type": "code",
   "execution_count": 18,
   "id": "71332e5e",
   "metadata": {},
   "outputs": [
    {
     "name": "stdout",
     "output_type": "stream",
     "text": [
      "\n"
     ]
    }
   ],
   "source": [
    "#Réponse 5\n",
    "print(\"A\")"
   ]
  },
  {
   "cell_type": "markdown",
   "id": "97729144",
   "metadata": {},
   "source": [
    "### Question 6\n",
    "#### Si, Sinon si, Sinon\n",
    "Soit le pseudo code suivant :\n",
    "```\n",
    "pv_ennemi ← 5\n",
    "points_de_degats_joueur ← 6\n",
    "pv_ennemi ← pv_ennemi - points_de_degats_joueur\n",
    "Si pv_ennemi>0 alors\n",
    "    Afficher \"L'ennemi n'est pas mort\"\n",
    "Sinon Si pv_ennemi==0 alors\n",
    "    Afficher \"L'ennemi est comateux\"\n",
    "Sinon\n",
    "    Afficher \"L'ennemi est mort\"\n",
    "Fin Si\n",
    "```\n",
    "Parmis les affirmations suivantes la/lesquelle.s est/sont vraie.s :\n",
    "* A. Cet algorithme va afficher une erreur \n",
    "* B. Cet algorithme va afficher \"L'ennemi n'est pas mort\"\n",
    "* C. Cet algorithme va afficher \"L'ennemi est comateux\"\n",
    "* D. Cet algorithme va afficher \"L'ennemi est mort\""
   ]
  },
  {
   "cell_type": "code",
   "execution_count": 7,
   "id": "6e1d9199",
   "metadata": {},
   "outputs": [
    {
     "name": "stdout",
     "output_type": "stream",
     "text": [
      "\n"
     ]
    }
   ],
   "source": [
    "#Réponse 6\n",
    "print(\"D\")"
   ]
  },
  {
   "cell_type": "markdown",
   "id": "0707eb81",
   "metadata": {},
   "source": [
    "### Question 7\n",
    "#### Boucles\n",
    "Soit la figure suivante (si elle ne s'affiche pas correctement merci de vous référer au fichier Demo_rosace.gif) :\n",
    "\n",
    "![rosace](Demo_rosace.gif)\n",
    "\n",
    "Parmis les pseudocodes suivants le/lesquel.s permet.tent d'obtenir cette figure sans devoir écrire 150 lignes ou plus :\n",
    "* A. \n",
    "```\n",
    "Poser le crayon à la position (0,0)\n",
    "Dessiner cercle de rayon 8\n",
    "Tourner vers la gauche sur 360/30 degrés \n",
    "Dessiner cercle de rayon 8\n",
    "Tourner vers la gauche sur 360/30 degrés\n",
    "Dessiner cercle de rayon 8\n",
    "Tourner vers la gauche sur 360/30 degrés\n",
    "Dessiner cercle de rayon 8\n",
    "...\n",
    "```\n",
    "* B.\n",
    "```\n",
    "Poser le crayon à la position (0,0)\n",
    "compteur ← 30\n",
    "Tant que compteur > 0 faire\n",
    "    Dessiner cercle de rayon 8\n",
    "    Tourner vers la gauche sur 360/30 degrés \n",
    "    compteur ← compteur - 1\n",
    "Fin Tant que\n",
    "```\n",
    "* C.\n",
    "```\n",
    "Poser le crayon à la position (0,0)\n",
    "Tant que Vrai faire\n",
    "    Dessiner cercle de rayon 8\n",
    "    Tourner vers la gauche sur 360/30 degrés \n",
    "Fin Tant que\n",
    "```\n",
    "* D.\n",
    "```\n",
    "Poser le crayon à la position (0,0)\n",
    "Pour compteur allant de 0 à 30 faire\n",
    "    Dessiner cercle de rayon 8\n",
    "    Tourner vers la gauche sur 360/30 degrés \n",
    "Fin Tant que\n",
    "```"
   ]
  },
  {
   "cell_type": "code",
   "execution_count": 8,
   "id": "7b0a7636",
   "metadata": {},
   "outputs": [
    {
     "name": "stdout",
     "output_type": "stream",
     "text": [
      "\n"
     ]
    }
   ],
   "source": [
    "#Réponse 7\n",
    "print(\"B\")"
   ]
  },
  {
   "cell_type": "markdown",
   "id": "517fb532",
   "metadata": {},
   "source": [
    "### Question 8\n",
    "#### Fonctions\n",
    "Parmis les affirmations suivantes la/lesquelle.s est/sont vraie.s :\n",
    "* A. Une fonction prédéfinie pour Afficher du texte en console existe dans quasiment tous les langages de programmations récents. \n",
    "* B. Une fonction est une portion de code informatique nommée, qui accomplit une tâche spécifique.\n",
    "* C. Il n'existe pas de fonctions prédéfinies, il faut impérativement toutes les réécrire.\n",
    "* D. Ecrire une fonction permet de réutiliser du code sans avoir à faire de copier coller dans tous les sens."
   ]
  },
  {
   "cell_type": "code",
   "execution_count": 9,
   "id": "071a09f0",
   "metadata": {},
   "outputs": [
    {
     "name": "stdout",
     "output_type": "stream",
     "text": [
      "\n"
     ]
    }
   ],
   "source": [
    "#Réponse 8\n",
    "print(\"ABD\")"
   ]
  },
  {
   "cell_type": "markdown",
   "id": "faa11aa6",
   "metadata": {},
   "source": [
    "### Question 9\n",
    "Parmis les code python suivants le/lesquelle.s est/sont valide.s :\n",
    "* A.\n",
    "```\n",
    "fonctionDeBase(#parametre):\n",
    "    return résultat\n",
    "print(fonctionDeBase(\"test\"))\n",
    "```\n",
    "* B.\n",
    "```\n",
    "def fonctionDeBase():\n",
    "    pass\n",
    "print(fonctionDeBase())\n",
    "```\n",
    "* C.\n",
    "```\n",
    "def nomDeMaFonction(param):\n",
    "    param = param - 1\n",
    "    return param\n",
    "print(nomDeMaFonction(\"test\"))\n",
    "```\n",
    "* D.\n",
    "```\n",
    "def nomDeMaFonction(param1,param2):\n",
    "    param1 = param1 + param2\n",
    "    return param1\n",
    "print(nomDeMaFonction(\"test\",2))\n",
    "```"
   ]
  },
  {
   "cell_type": "code",
   "execution_count": 10,
   "id": "dab78398",
   "metadata": {},
   "outputs": [
    {
     "name": "stdout",
     "output_type": "stream",
     "text": [
      "\n"
     ]
    }
   ],
   "source": [
    "#Réponse 9\n",
    "print(\"B\")"
   ]
  },
  {
   "cell_type": "markdown",
   "id": "195e47e6",
   "metadata": {},
   "source": [
    "### Question 10\n",
    "Parmis les affirmations suivantes la/lesquelle.s est/sont vraie.s :\n",
    "* A. Une liste ou un tableau est une structure de données qui permet de stocker plusieurs valeurs de même type comme des notes d'étudiants.  \n",
    "* B. Une liste et un tableau c'est exactement la même chose ça sert à stocker plusieurs valeurs de même type comme des notes d'étudiants.\n",
    "* C. Une liste et un tableau c'est complétement différent, il n'y a aucun rapport entre ces deux types de données.\n",
    "* D. Une liste peut stocker un nombre indéfini de données (normalement de même type) mais l'accès en mémoire est plus lent, le tableau quant à lui, ne peut stocker qu'un nombre fini de données de même type mais les rend plus rapidement accessible."
   ]
  },
  {
   "cell_type": "code",
   "execution_count": 11,
   "id": "ff694bb5",
   "metadata": {},
   "outputs": [
    {
     "name": "stdout",
     "output_type": "stream",
     "text": [
      "\n"
     ]
    }
   ],
   "source": [
    "#Réponse 10\n",
    "print(\"AD\")"
   ]
  },
  {
   "cell_type": "markdown",
   "id": "11879309",
   "metadata": {},
   "source": [
    "## Python\n",
    "Merci pour cette partie de suivre attentivement la consigne de chaque exercice. \n",
    "\n",
    "Merci également de ne pas laisser vos cellules de tests et de les supprimer avant de me rendre le fichier et de ne mettre que les fonctions ou bout de code demandés dans les cellules de réponse.\n",
    " \n",
    "Les 5 premières questions seront 'simples' et ne vaudront qu'1 point chacune. \n",
    "Une consigne qui ne sera pas suivi à la lettre rendra l'exercice invalide et vaudra donc 0.\n",
    "\n",
    "L'exercice 6 étant potentiellement un peu plus compliqué pourra valoir jusqu'à 2 points. \n",
    "\n",
    "L'exercice 7 sera plus ouvert et pourra valoir jusqu'à 5 points et le pseudo code pourra y être accepté. (toutefois 0 points seront accordé si ce qui est écrit n'a aucun sens par rapport à la question posée)(n'oubliez pas que les commentaires existent)\n",
    "\n",
    "L'exercice 8 laissez libre court à votre imagination et proposez moi un joli dessin fait en python (jusqu'à 3 points si c'est fait de façon smart): \n",
    "* soit avec Turtle dont un exemple de code est disponible dans les programmes qui sont sur vos disques partagés sinon (cf.[https://realpython.com/beginners-guide-python-turtle/])\n",
    "* soit avec Tkinter (cf. [https://zetcode.com/tkinter/drawing/])\n",
    "* soit avec Pillow et Images (cf. [https://www.blog.pythonlibrary.org/2021/02/23/drawing-shapes-on-images-with-python-and-pillow/])\n",
    "\n",
    "# NB\n",
    "Comme vous pouvez le constater avec 10 points pour le QCM et 5+2+5+3=15 points pour les exercices, 5 points sont en bonus (qui pourront être reporté à un ratio de 50% sur la note du projet de jeu textuel, c'est à dire que si ce DM est réalisez à 100% vous pouvez obtenir jusqu'à 2.5 points d'avance sur le projet)."
   ]
  },
  {
   "cell_type": "markdown",
   "id": "12d67a8a",
   "metadata": {},
   "source": [
    "### Exercice 1\n",
    "Afficher le résultat suivant :\n",
    "```\n",
    "Hello World !\n",
    "```"
   ]
  },
  {
   "cell_type": "code",
   "execution_count": 3,
   "id": "7ba0a331",
   "metadata": {},
   "outputs": [
    {
     "name": "stdout",
     "output_type": "stream",
     "text": [
      "Hello World\n"
     ]
    }
   ],
   "source": [
    "#Exercice 1\n",
    "#<écrivez votre code dans cette cellule juste en dessous de cette ligne>\n",
    "\n",
    "print(\"Hello World\")"
   ]
  },
  {
   "cell_type": "markdown",
   "id": "cd1b4ad6",
   "metadata": {},
   "source": [
    "### Exercice 2\n",
    "Afficher le résultat suivant en utilisant le moins de lignes de code possible (1-4 lignes) :\n",
    "```\n",
    "Hello World 1\n",
    "Hello World 2\n",
    "Hello World 3\n",
    "Hello World 4\n",
    "Hello World 5\n",
    "Hello World 6\n",
    "Hello World 7\n",
    "Hello World 8\n",
    "Hello World 9\n",
    "Hello World 10\n",
    "Hello World 11\n",
    "```"
   ]
  },
  {
   "cell_type": "code",
   "execution_count": 3,
   "id": "af3343ce",
   "metadata": {},
   "outputs": [
    {
     "name": "stdout",
     "output_type": "stream",
     "text": [
      "Hello World 1\n",
      "Hello World 2\n",
      "Hello World 3\n",
      "Hello World 4\n",
      "Hello World 5\n",
      "Hello World 6\n",
      "Hello World 7\n",
      "Hello World 8\n",
      "Hello World 9\n",
      "Hello World 10\n",
      "Hello World 11\n"
     ]
    }
   ],
   "source": [
    "#Exercice 2\n",
    "#<écrivez votre code dans cette cellule juste en dessous de cette ligne>\n",
    "\n",
    "for i in range(1,12):\n",
    "    print(\"Hello World\", i)"
   ]
  },
  {
   "cell_type": "markdown",
   "id": "e725a240",
   "metadata": {},
   "source": [
    "### Exercice 3\n",
    "Créez une fonction *milieu* qui prend en paramètre, deux nombres entiers correspondant au minimum et au maximimum d'un intervalle et qui (comme son nom l'indique si bien) calcule le milieu de l'intervalle. \n",
    "\n",
    "*ATTENTION* le résultat attendu doit être un nombre entier !\n",
    "\n",
    "Astuce : on peut considérer que cette fonction calcule la moyenne entre minimum et maximum.\n",
    "\n",
    "Exemple :\n",
    "```\n",
    "print(milieu(4,6))\n",
    "print(milieu(0,500))\n",
    "print(milieu(1024,2048))\n",
    "```\n",
    "affichera :\n",
    "```\n",
    "5\n",
    "250\n",
    "1536\n",
    "```"
   ]
  },
  {
   "cell_type": "code",
   "execution_count": 9,
   "id": "bd5143c0",
   "metadata": {},
   "outputs": [
    {
     "name": "stdout",
     "output_type": "stream",
     "text": [
      "Donne un minimum entier:2\n",
      "Donne un maximum entier:30\n",
      "16\n"
     ]
    }
   ],
   "source": [
    "#Exercice 3\n",
    "#<écrivez votre code dans cette cellule juste en dessous de cette ligne>\n",
    "\n",
    "def milieu(Nbmin, Nbmax):\n",
    "    z = (Nbmin + Nbmax)//2\n",
    "    print(z)\n",
    "\n",
    "x = eval(input(\"Donne un minimum entier:\"))\n",
    "y = eval(input(\"Donne un maximum entier:\"))\n",
    "milieu(x, y)"
   ]
  },
  {
   "cell_type": "markdown",
   "id": "e07dd508",
   "metadata": {},
   "source": [
    "### Exercice 4\n",
    "Traduisez cette algorithme écrit en pseudo langage vers du langage python :\n",
    "```\n",
    "pv_ennemi ← 299\n",
    "degat_joueur ← 3\n",
    "Tant que pv_ennemi > 0 faire\n",
    "    Afficher pv_ennemi\n",
    "    pv_ennemi ← pv_ennemi - degat_joueur\n",
    "Afficher “l’ennemi est mort”\n",
    "```"
   ]
  },
  {
   "cell_type": "code",
   "execution_count": 6,
   "id": "87b4e164",
   "metadata": {},
   "outputs": [
    {
     "name": "stdout",
     "output_type": "stream",
     "text": [
      "299\n",
      "296\n",
      "293\n",
      "290\n",
      "287\n",
      "284\n",
      "281\n",
      "278\n",
      "275\n",
      "272\n",
      "269\n",
      "266\n",
      "263\n",
      "260\n",
      "257\n",
      "254\n",
      "251\n",
      "248\n",
      "245\n",
      "242\n",
      "239\n",
      "236\n",
      "233\n",
      "230\n",
      "227\n",
      "224\n",
      "221\n",
      "218\n",
      "215\n",
      "212\n",
      "209\n",
      "206\n",
      "203\n",
      "200\n",
      "197\n",
      "194\n",
      "191\n",
      "188\n",
      "185\n",
      "182\n",
      "179\n",
      "176\n",
      "173\n",
      "170\n",
      "167\n",
      "164\n",
      "161\n",
      "158\n",
      "155\n",
      "152\n",
      "149\n",
      "146\n",
      "143\n",
      "140\n",
      "137\n",
      "134\n",
      "131\n",
      "128\n",
      "125\n",
      "122\n",
      "119\n",
      "116\n",
      "113\n",
      "110\n",
      "107\n",
      "104\n",
      "101\n",
      "98\n",
      "95\n",
      "92\n",
      "89\n",
      "86\n",
      "83\n",
      "80\n",
      "77\n",
      "74\n",
      "71\n",
      "68\n",
      "65\n",
      "62\n",
      "59\n",
      "56\n",
      "53\n",
      "50\n",
      "47\n",
      "44\n",
      "41\n",
      "38\n",
      "35\n",
      "32\n",
      "29\n",
      "26\n",
      "23\n",
      "20\n",
      "17\n",
      "14\n",
      "11\n",
      "8\n",
      "5\n",
      "2\n",
      "l'ennemi est mort\n"
     ]
    }
   ],
   "source": [
    "#Exercice 4\n",
    "#<écrivez votre code dans cette cellule juste en dessous de cette ligne>\n",
    "\n",
    "a = 299\n",
    "b = 3\n",
    "while a > 0:\n",
    "    print(a)\n",
    "    a = a - b\n",
    "print(\"l'ennemi est mort\")"
   ]
  },
  {
   "cell_type": "markdown",
   "id": "b4d89da0",
   "metadata": {},
   "source": [
    "### Exercice 5\n",
    "Créez une fonction *mean* qui prend en paramètre, une liste de nombre de type float ou int  et qui (comme son nom l'indique si bien) calcule la moyenne de cette liste (comme on le ferait pour calculer la moyenne d'une classe) et retourne le résultat. \n",
    "\n",
    "*ATTENTION* le résultat attendu doit être un nombre à virgule (type float) !\n",
    "\n",
    "Astuce : la fonction sum() calcule et retourne la somme des éléments d'une liste et la fonction len() retourne le nombre d'éléments présents dans la liste.\n",
    "\n",
    "Exemple :\n",
    "```\n",
    "maListe = [10,15,20,17]\n",
    "print(sum(maListe))\n",
    "print(len(maListe))\n",
    "print(mean(maListe))\n",
    "```\n",
    "affichera :\n",
    "```\n",
    "62\n",
    "4\n",
    "15.5\n",
    "```"
   ]
  },
  {
   "cell_type": "code",
   "execution_count": 10,
   "id": "7907f605",
   "metadata": {},
   "outputs": [
    {
     "name": "stdout",
     "output_type": "stream",
     "text": [
      "12.25\n"
     ]
    }
   ],
   "source": [
    "#Exercice 5\n",
    "#<écrivez votre code dans cette cellule juste en dessous de cette ligne>\n",
    "\n",
    "def mean(maListe):\n",
    "    x =sum(maListe)\n",
    "    y = len(maListe)\n",
    "    print(x/y)\n",
    "    \n",
    "mean([12,11,15,11])"
   ]
  },
  {
   "cell_type": "markdown",
   "id": "7d153a1e",
   "metadata": {},
   "source": [
    "### Exercice 6\n",
    "Traduisez cette algorithme présenté sous forme de diagramme vers du langage python :\n",
    "\n",
    "![Diagram_42](Algo_42.png)"
   ]
  },
  {
   "cell_type": "code",
   "execution_count": 1,
   "id": "cf4568ac",
   "metadata": {},
   "outputs": [
    {
     "name": "stdout",
     "output_type": "stream",
     "text": [
      "trouver un nombre : a\n",
      "La réponse est un nombre. Merci de ne pas entrer d'autres caractères que des chiffres.\n",
      "trouver un nombre : 1\n",
      "trouver un nombre : a\n",
      "La réponse est un nombre. Merci de ne pas entrer d'autres caractères que des chiffres.\n",
      "trouver un nombre : 1\n",
      "trouver un nombre : 1\n",
      "Ceci n'est pas la bonne réponse.\n",
      "trouver un nombre : 4\n",
      "Ceci n'est pas la bonne réponse.\n",
      "trouver un nombre : a\n",
      "La réponse est un nombre. Merci de ne pas entrer d'autres caractères que des chiffres.\n",
      "trouver un nombre : 42\n"
     ]
    }
   ],
   "source": [
    "#Exercice 6\n",
    "#<écrivez votre code dans cette cellule juste en dessous de cette ligne>\n",
    "\n",
    "def nombrejuste():\n",
    "    user_input = 0\n",
    "    while user_input != 42:\n",
    "        user_input = input(\"trouver un nombre : \")\n",
    "        if user_input.isdigit() == False:\n",
    "            print(\"La réponse est un nombre. Merci de ne pas entrer d'autres caractères que des chiffres.\")\n",
    "            user_input = eval(input(\"trouver un nombre : \"))\n",
    "        elif int(user_input) != 42:\n",
    "            print(\"Ceci n'est pas la bonne réponse.\")\n",
    "        else:\n",
    "            print(\"Bravo vous avez trouvé la bonne réponse !\")\n",
    "            return True\n",
    "nombrejuste()"
   ]
  },
  {
   "cell_type": "markdown",
   "id": "d7779a7b",
   "metadata": {},
   "source": [
    "### Exercice 7\n",
    "laissez libre court à votre imagination et proposez moi un joli dessin fait en python: \n",
    "* soit avec Turtle dont un exemple de code est disponible dans les programmes qui sont sur vos disques partagés sinon (cf.[https://realpython.com/beginners-guide-python-turtle/])\n",
    "* soit avec Tkinter (cf. [https://zetcode.com/tkinter/drawing/])\n",
    "* soit avec Pillow et Images (cf. [https://www.blog.pythonlibrary.org/2021/02/23/drawing-shapes-on-images-with-python-and-pillow/])"
   ]
  },
  {
   "cell_type": "code",
   "execution_count": null,
   "id": "386edfe3",
   "metadata": {},
   "outputs": [],
   "source": [
    "#Exercice 7\n",
    "#<écrivez votre code dans cette cellule juste en dessous de cette ligne>\n",
    "from turtle import*\n",
    "\n",
    "width(5)\n",
    "fillcolor('gray')\n",
    "\n",
    "begin_fill()\n",
    "forward(100)\n",
    "left(90)\n",
    "forward(50)\n",
    "right(90)\n",
    "forward(50)\n",
    "right(90)\n",
    "forward(50)\n",
    "left(90)\n",
    "forward(50)\n",
    "left(90)\n",
    "forward(50)\n",
    "left(90)\n",
    "forward(50)\n",
    "right(90)\n",
    "forward(50)\n",
    "right(90)\n",
    "forward(150)\n",
    "right(90)\n",
    "forward(50)\n",
    "right(90)\n",
    "forward(50)\n",
    "left(90)\n",
    "forward(50)\n",
    "left(90)\n",
    "forward(50)\n",
    "left(90)\n",
    "forward(50)\n",
    "right(90)\n",
    "forward(50)\n",
    "right(90)\n",
    "forward(50)\n",
    "left(90)\n",
    "forward(100)\n",
    "right(90)\n",
    "forward(50)\n",
    "right(90)\n",
    "forward(150)\n",
    "left(90)\n",
    "forward(50)\n",
    "right(90)\n",
    "forward(150)\n",
    "right(90)\n",
    "forward(50)\n",
    "left(90)\n",
    "forward(150)\n",
    "right(90)\n",
    "forward(50)\n",
    "end_fill()\n",
    "up()\n",
    "right(180)\n",
    "\n",
    "width(2)\n",
    "goto(200,-100)\n",
    "fillcolor('green')\n",
    "down()\n",
    "begin_fill()\n",
    "forward(50)\n",
    "right(90)\n",
    "forward(50)\n",
    "left(90)\n",
    "forward(50)\n",
    "right(90)\n",
    "forward(50)\n",
    "left(90)\n",
    "forward(50)\n",
    "right(90)\n",
    "forward(50)\n",
    "left(90)\n",
    "forward(50)\n",
    "left(90)\n",
    "forward(50)\n",
    "left(90)\n",
    "forward(50)\n",
    "right(90)\n",
    "forward(50)\n",
    "left(90)\n",
    "forward(50)\n",
    "right(90)\n",
    "forward(50)\n",
    "left(90)\n",
    "forward(50)\n",
    "right(90)\n",
    "forward(50)\n",
    "right(90)\n",
    "forward(50)\n",
    "left(90)\n",
    "forward(50)\n",
    "right(90)\n",
    "forward(50)\n",
    "left(90)\n",
    "forward(50)\n",
    "right(90)\n",
    "forward(50)\n",
    "left(90)\n",
    "forward(50)\n",
    "left(90)\n",
    "forward(50)\n",
    "left(90)\n",
    "forward(50)\n",
    "right(90)\n",
    "forward(50)\n",
    "left(90)\n",
    "forward(50)\n",
    "right(90)\n",
    "forward(50)\n",
    "left(90)\n",
    "forward(50)\n",
    "right(90)\n",
    "forward(50)\n",
    "left(90)\n",
    "forward(50)\n",
    "end_fill()\n",
    "\n",
    "done()"
   ]
  },
  {
   "cell_type": "markdown",
   "id": "33e72a17",
   "metadata": {},
   "source": [
    "### Exercice 8 \n",
    "#### problème ouvert\n",
    "En considérant le code suivant qui permet de récupérer une image et la convertir en niveau de gris et la stocker dans un tableau de tableau 64x64 (autrement appelé matrice) qui contient les données de chaque pixel (soit un nombre entier allant de 0 à 255 correspondant au niveau de gris où 0 = noir et 255 = blanc).\n",
    "\n",
    "\n",
    "```\n",
    "%matplotlib inline\n",
    "import matplotlib.pyplot as plt\n",
    "import matplotlib.image as mpimg\n",
    "import numpy as np\n",
    "from PIL import Image\n",
    "\n",
    "def convertImageToGrayArray(imgFile = \"pixel_art_exemple_by_Mustachioed_Pizza.png\"):\n",
    "    img = Image.open(imgFile).convert('L')\n",
    "    img.thumbnail((64, 64), Image.ANTIALIAS)\n",
    "    grayscale_array = np.asarray(img)\n",
    "    return grayscale_array\n",
    "```\n",
    "\n",
    "* écrivez une fonction qui, à partir de ce type de matrice, converti l'image en texte comme dans l'exemple suivant (il s'agit d'asciiArt):\n",
    "\n",
    "Voici la liste de caractères utilisés pour convertir notre image en asciiart : \n",
    "```\n",
    "['@@', '00', '##', 'xx', '**', '..', '--', '~~', '  ']\n",
    "```\n",
    "Dans cette liste de charactère on considère que l'on va du noir vers le plus claire mais libre à vous de la changer (indice plus vous mettez de caractère par élément de votre liste plus votre image sera large\n",
    "![babou](babouin.png)\n",
    "```\n",
    "..**..**********xxxxxxxxxxxxxxxxxxxxxxxx####xxxxxxxxxxxxxxxx##**xx********xxxx##xxxxxxxxxxxxxxxxxxxxxxxxxxxxxx**xx**xx**....**..\n",
    "....****..****xxxxxxxxxxxx####xxxx######xx########xxxx******xxxxxx******xx######xx########################xx##xxxxxx**xx**--....\n",
    "**....**..xx**xx##xx################################xxxx##xxxx##xxxx################0000########################xxxx****........\n",
    "....**..******xxxx################000000000000##########################00########xx**....xx##00##############xxxx******....**--\n",
    "..****....****xx##############0000xx********xx00####00##00####xx########xx**xx00xx~~--**--~~**00##xx########xxxx**..****........\n",
    "..........****xx################00..~~**xx--~~xx##xx##0000############xx**xx0000**~~--xx--~~..00xx..xx##xxxxxxxx******....**..**\n",
    "............****xxxx######xxxx##00**~~--..~~--##00xxxx##00########00##xxxx##0000##..  ~~~~..##00**..**xxxxxx**xx**..****....****\n",
    "**..........********xxxxxx****##00##..~~~~--xx0000##xx##0000##xx####xx**##xx**0000##xx****##00xx..**xxxxxx************..**......\n",
    "......**....**********xxxxxx**xx##0000####00@@00xxxxxxxx########xx**xxxx##xxxx####00000000##xx**..xx####xxxxxx******............\n",
    "****--..**....********xxxxxxxx**xx##000000####xx****xx####**xx******xx####xx**xxxxxxxx##xx**..**xx##xxxxxxxxxx**..**..--........\n",
    "........**....**********xxxxxxxxxxxxxxxxxxxx****xxxx##00##**xx**....**xx####xxxx********....**####xxxxxxxx**xx**..**............\n",
    "....**....****..******xxxx**xx####xx**********xx####xx##xx****......xx**########xxxxxxxxxx####xxxxxxxxxxxx**xx**..****..--..**..\n",
    "**..........**....****xx**xxxxxx##############xxxx##00##..**xx------**xx####**xx******xxxx######xxxxxxxx**xxxx****..............\n",
    "****..**....**....**xxxxxxxx############xxxxxxxx****##xx..**xx..----..##00xx..--..****xxxxxx####xx##xxxxxx******................\n",
    "..............****..**xxxxxxxxxx######xxxx********..xxxx--..**--  ----xx##**--..****xxxxxxxxxx####xxxxxx**xx****..****....**....\n",
    "**......**....**********##########xxxxxxxx**........****  ....~~  --~~..xx....**..****xxxxxxxxxx####xxxxxxxx****..****..........\n",
    "**..........****..xxxxxx########xxxxxxxx**xx..........--~~--..~~  ~~~~~~**..........**xxxxxxxxxxxxxxxxxxxxxx********......**....\n",
    "**....xx....******xx##xxxxxx##xxxxxxxx******..--....~~~~  ----~~      ~~..**........**xxxxxxxxxxxxxxxxxxxxxxxx**********....**..\n",
    "********....************xx####xx****xx****....------~~~~  ~~~~          ..**......******xxxxxx**xx##xxxx**xx******....**........\n",
    "**..****....**********xxxxxx##xx****xx****......----~~    ~~~~          --**..--..********xxxx**xxxxxx**xx******................\n",
    "****..****..**************xxxxxxxx****xx****....----    ~~~~  ~~        ~~**..--....****xxxx****xxxx**xx************..........**\n",
    "**xx********..**********xx##xxxxxx**..****..**....--                    --**----....**********xxxxxxxxxxxx******..**....**......\n",
    "**..********..********xx####xxxxxx**..****..**....--                    --..--........********xxxxxxxxxxxx******....**....****..\n",
    "..********......****xxxx####xxxxxx********..**....--                    --..--........**..****xxxxxxxx##**xx******....**..******\n",
    "******....********xx**xx####xx**xx******......**..--                    --................****xx**xxxxxxxx********........******\n",
    "********......********######****xxxx**..........**~~          ~~        --..........**....**xxxx**xxxx##xx**xxxx**..****..******\n",
    "xx******xx....********####xxxx**xxxx**......--..**~~          ~~        --..........**....****xx**xxxx##xxxxxx**..****..********\n",
    "**xx********..******xx####xxxx****xx**......--..**~~        ~~~~        --......--......****xx****xxxx##xxxx********************\n",
    "**xxxxxx**xx******##xxxx##xxxx****xx**......--..**~~        ~~~~        --****----......****xx****xx########********..********xx\n",
    "##xxxxxxxxxxxxxx**xxxxxx##xxxx****xx**......----**~~        ~~~~        --**..--........**xx******xx####xxxxxxxx************xxxx\n",
    "####xxxx##xxxx####xxxx##00xx##xx******..--....--..~~        ~~~~        --**..--....--..****..**xxxx####xx**xxxx******xxxx**xxxx\n",
    "xx##xxxxxxxx**xx####xx##00xxxxxx**..**..--....--..~~        ~~~~~~      --**..--..----..****..****xx######xx****xx****xxxxxxxxxx\n",
    "xxxxxxxx######xx######0000xx**##**..****--....--..~~        ~~~~        --**--....----..**....****######xxxxxxxxxx**xx****xxxxxx\n",
    "xxxx########xx########00@@xx**xxxx....**..--..--..~~        ----~~      --**--....----****..****xx####xx##xxxxxxxxxxxxxxxxxxxxxx\n",
    "****xxxxxx##xx####xx##00@@##**xxxx....**......--..~~        ~~--~~      ..**--....--..**....****xx######xxxxxxxxxxxxxxxxxxxxxxxx\n",
    "..**xxxxxx##############@@00xx**xx..........**....--        ----~~      ....--..----**..--..**xxxx######xxxxxxxxxxxxxxxxxxxxxxxx\n",
    "........####00########000000##**xx**--....--....----        --~~~~    ~~..--....----**..--****xxxx00######xxxxxxxxxxxxxx##xxxxxx\n",
    "--..**xx00########00##000000##******--..**----..----        ~~~~~~    ~~..--....--....~~--****xx########xx####xxxxxxxxxxxxxx####\n",
    "..xx########00####00##000000##xx**xx----**..--....--~~      ~~~~      --....**----**..--..**xxxx####00####xxxxxxxxxxxxxxxxxxxx##\n",
    "....****####00##000000##0000##xx**xx..--**..........~~      ~~~~      --......--..**....******xx0000########xxxxxxxxxxxxxxxxxxxx\n",
    "--..**xx00####0000####000000####******....**--......~~      ~~~~      ....**......**--********##0000########xxxxxxxx##xxxxxxxxxx\n",
    "....****xx####000000######0000##xx**xx..****--......~~      ~~~~    ~~....**..--****..**xx**xx############xxxxxxxx####xxxxxxxxxx\n",
    "..******xx####0000####00000000##xx**xx******........        ~~~~    ~~--..**....xx****xxxxxxxx################xxxxxxxxxxxxxxxxxx\n",
    "......**##00######xx######0000####xxxxxx**xx**....--        ~~        --****..**xx****xx**xx##xx##############xxxxxxxxxxxxxxxxxx\n",
    "--....xx####00000000####00000000xxxxxx##**xx**....~~        ~~        ~~****..xxxxxx**xx**####xx################xxxx##xxxxxxxxxx\n",
    "----..##########00####xx####0000xxxxxxxx****xx..--                    ~~**....xx******xx##xx##xxxx####xxxx####xxxxxx##xxxxxxxxxx\n",
    "~~--..**xx########xx**xx##########xx######xx**--                        --..**xx**xxxxxxxxxx################xxxxxx####xxxxxxxxxx\n",
    "~~--****xx##xxxx********######xx######xx..--~~                            --..xx**xxxxxxxx##xxxxxxxx######xxxxxxxxxxxxxxxxxxxxxx\n",
    "~~--..**xx####........**xx##########**~~                                      --**xxxxxxxx##xxxxxxxxxxxxxxxx**xx**xxxxxxxxxxxxxx\n",
    "~~--..**xx##**..........xx00######xx--  ~~                                      ~~**xxxxxxxxxx######xxxxxxxxxxxxxx****xxxxxxxxxx\n",
    "~~~~..**xxxx**..........**####xxxx..~~    ~~~~    ~~                              ~~**xxxxxxxxxxxxxx####xxxxxxxxxxxxxx****xx##xx\n",
    "~~~~..**xxxx**..........**######xx--      ~~..**~~  ~~~~~~~~  ~~~~    --..--        --**xxxxxxxxxx**xxxxxxxxxxxxxxxxxxxxxxxxxxxx\n",
    "  --..****xx**....----..**xx####xx--          --**~~    ~~~~~~      ..**--~~        ~~**xxxxxx##xxxxxxxxxx**xx******xxxxxxxxxxxx\n",
    "~~~~--**xx**....----......xx####xx--            ~~..~~            ----              ~~**xxxxxxxxxxxxxxxxxxxx************xxxxxxxx\n",
    "~~~~--**xx**......--......**xxxx##--                ~~          ~~                  ~~**xxxxxxxxxxxxxxxx********************xxxx\n",
    "~~~~--****........------....**xx##..~~                ~~~~  ~~~~                    --**xxxxxxxxxxxxxx********....********xxxxxx\n",
    "~~~~~~..**........----......**xxxx**--                ~~~~                        ~~..xxxxxxxxxx******..****............****xxxx\n",
    "~~~~--..........------....**....**xx..~~                                          --****xxxx**xxxx....xx****............******xx\n",
    "~~~~--..--......----..........--..****--~~                                        ..******xxxx....--..xxxx..............****xxxx\n",
    "~~~~------........----..--......--..**..--~~            ~~                      --************--..**....**................****xx\n",
    "~~--~~----........------..--..**..----....--~~~~        ~~~~                  --..****....----....xxxx............--......****xx\n",
    "----------....**..------..--........----....----~~~~~~~~~~~~~~            ~~--**......--------**xx******..............**********\n",
    "------..--..........------............--------........----------~~~~~~--~~--....----------....**xx**..**..............**********\n",
    "------..--..............--........--....----------..............------..--..------------..**..****xx******............**********\n",
    "\n",
    "```\n",
    "\n",
    "Voici un autre exemple avec moins de nuance de \"couleur\" et une image qui s'affichera en moins large puisque moins de caractère par élément de la liste : \n",
    "```\n",
    "['@', '#', '*', '.', '-', '~', ' ']\n",
    "```\n",
    "\n",
    "```\n",
    "-.......*.**.*....*****...*...*..----..**.......*******.*.*.--.-\n",
    "-...-..***************#***.--.*.....********#******#******...---\n",
    ".--.-..*****##############*****#****###**#############***...--.-\n",
    "--.-...***##################*#*#*#####*##**.**#########**...--.-\n",
    "...--..**#*######******#*#####****##*..#*-.*...#********.-...---\n",
    "-.---..*#*##***##..*#*.*#.#########*..##.-.*...#.-.***...-.--...\n",
    "------...****..*#...*..#@*.####*###*.*#@#.--..*#.-.***...-..--..\n",
    ".----......*...#@#..-.*@#**####*##*.***###****#*--.*......--.---\n",
    ".--........*...**####@@#***.####***.#*.######*..-.**....--------\n",
    "..--.--......*...*###***-.*##*****.*#*....**.--.***.....--------\n",
    "----.--........*.........**##*#.*...***.....--.****.....--------\n",
    "--.--..-.......*#*.....****#***...*.***.....*#**...*....-..---.-\n",
    "..-.--.--....**.*###***..##*.*#...*.#*---~--.***..**...---------\n",
    "..-.--.--.**..**##*.------#*-*#....##.~~~--...****.**...--------\n",
    "..--.--..-.*****#**.------**-**...-*#-~~------.*****....-.------\n",
    ".-...--.....#**#*.-..-~~~-**-**.....*~~-~~~--...******..-..-----\n",
    "....-...-********.----~~~-*.-**......~~~~~------.*.***...-------\n",
    "...*.....***.**.-.-----~~-*..**......-~~~~-----.**......--..----\n",
    "....--......***------~-~~-*..*.......-~~~-----.-.*....-.--------\n",
    ".....-...-...**------~~~~-.-.......-.-~~~-~------.....-.--------\n",
    ".............*..------~-~-.........-.-~~~~~------....-.--------.\n",
    "**....-.....**----~--~--~-.-.........-~~~~~------....-----------\n",
    "......-....*#*----~--~--~-...........~~~~~~--~----....--------.-\n",
    ".....-.-..****-------~--~-...........~~~~~~-~-----.*...----.-...\n",
    "....-....*..**-------~~-~-...........~~~~~--~-----.......----.-.\n",
    "...........*#.-----~-~~~~-.....-.....~~~~~-~~-----.*.-...--.-.--\n",
    "**..*--....*#.-----~~~~~~-....--....-~-~~~-~~~----.**..------..-\n",
    ".*........*#*--~--~~~~~~--.....--...-~-~~-~~~-----.*.*....--....\n",
    "****.....****--~---~~~~~--....--....---~~-~~~-----****--.--..-..\n",
    "#******..****-.----~~~~~--....--....---~~~~~---~--**....--......\n",
    "##.*#******#*-.-~--~~-~~~-....--....--~~-~~~--~~-.**...........*\n",
    "******.*##*##-.----~~-~~-.....--....--~~-~~~--~~-.****........*.\n",
    "****##***#*##--.-~--~~-~-.....--....--~--~~---~--.**.**......**.\n",
    "***#*#**####@.-.-~--~~-~~.....--....-~~-~~~--~---.*.**......*...\n",
    "..*****##*##@*~--~~--~-~~.....-~-...-~~-~~~-~~---.*************.\n",
    "..****###**#@*--.~~--~--~-....---...-~~-~~--~~---***.....*****..\n",
    "-.-.*#######@#--.-~--~~-~-....---...-~~~~~-~~---.#***.*.**..**.*\n",
    "--.*########@#.---~~-~~-~~.....-...-~~-~~--~~~--*##*****.*******\n",
    ".**#*#########.---~~-~~-~~.....-...-~~-~~--~----*##*************\n",
    "..***#######@#.----~-----~.........-~--~~-~~----###****.**.*****\n",
    "...*########@#*.---~--~--~-........-~--~--~----.##****.*********\n",
    "..***######**##.------~~--.........-~.-~.-~----*************.***\n",
    "....*#####*####..-.--.----.*.......~--~~.---.-.****************.\n",
    "....###*#***###*.-..-.----.........-.-~-*--.-...**##*****.******\n",
    "...*###########*..-*-.-~--.........-.-~...-.-*...***********.***\n",
    "--.#######***##*....-..--............--.----*....***************\n",
    "--.**#****..*#***.**..--............-~-.-.....******************\n",
    "--..***..-..*#****...--..............--.-....*....****...*******\n",
    "--..*#*-----*******....................--....*.***........******\n",
    "--..**.-----*#***.*...-........................*...........*****\n",
    "--..**.-----.**.**.....---........-----...........**.........***\n",
    "--.***.-----.*****....**.-----.----.**....................**.**.\n",
    "~-.*.*.-----..****.....*#...-----.**..........***..........*..*.\n",
    "--.**...-----.***......-.*...--..*.-.-..........*.......--..****\n",
    "--..*..------..***........*....-.............**.****...-..-.....\n",
    "--.*...-.------*#*...........................***.**...----......\n",
    "---..-...-~---.*.............-.............*.***...-..------...*\n",
    "---.....-~------............................**..*--*.------.....\n",
    "--.....---.----~-............................*.-.--**-------..**\n",
    "-----.-..-------~---...........................-..----------...*\n",
    "----..-..------.-~~--....................*.----.-..---------....\n",
    "---.-..*.----------~-.-.................-------.*...----.--.....\n",
    "---.-.....------.--~~~-----.-.........----------*.-.------......\n",
    "---...-.....-------.---------------.---------.-....-.----.......\n",
    "```"
   ]
  },
  {
   "cell_type": "code",
   "execution_count": 112,
   "id": "a3cf5f59",
   "metadata": {},
   "outputs": [
    {
     "name": "stdout",
     "output_type": "stream",
     "text": [
      "[[151 133 143 ... 160 142 152]\n",
      " [163 143 131 ... 174 168 155]\n",
      " [130 157 149 ... 147 145 161]\n",
      " ...\n",
      " [164 167 159 ... 130 122 114]\n",
      " [156 172 153 ... 116 122 119]\n",
      " [164 167 152 ... 117 117 120]]\n"
     ]
    },
    {
     "data": {
      "text/plain": [
       "<matplotlib.image.AxesImage at 0x19968fd0760>"
      ]
     },
     "execution_count": 112,
     "metadata": {},
     "output_type": "execute_result"
    },
    {
     "data": {
      "image/png": "[encoded data removed]",
      "text/plain": [
       "<Figure size 432x288 with 1 Axes>"
      ]
     },
     "metadata": {
      "needs_background": "light"
     },
     "output_type": "display_data"
    }
   ],
   "source": [
    "%matplotlib inline\n",
    "import matplotlib.pyplot as plt\n",
    "import matplotlib.image as mpimg\n",
    "import numpy as np\n",
    "from PIL import Image\n",
    "\n",
    "def convertImageToGrayArray(imgFile = \"babouin.png\",nombre_pixels = 64):\n",
    "    img = Image.open(imgFile).convert('L') #charge l'image et la converti directement en image sur des niveaux de gris\n",
    "    img.thumbnail((nombre_pixels, nombre_pixels), Image.ANTIALIAS) #modifie la taille de l'image pour par défaut l'avoir en 64/64 pixels \n",
    "    grayscale_array = np.asarray(img) #converti notre image en tableau d'entier avec chaque case correspondant à des pixels allant de 0 à 255\n",
    "    return grayscale_array\n",
    "\n",
    "gray_array = convertImageToGrayArray()  \n",
    "print(gray_array)\n",
    "plt.imshow(gray_array, cmap=\"gray\") #affiche une matrice en image avec une colormap de nuances de gris"
   ]
  },
  {
   "cell_type": "code",
   "execution_count": 5,
   "id": "419e1ac3",
   "metadata": {},
   "outputs": [
    {
     "name": "stdout",
     "output_type": "stream",
     "text": [
      "----------------------------------------------------------------\n",
      "----------------------------------------------------------------\n",
      "----------------------------------------------------------------\n",
      "----------------------------------------------------------------\n",
      "----------------------------------------------------------------\n",
      "----------------------------------------------------------------\n",
      "----------------------------------------------------------------\n",
      "----------------------------------------------------------------\n",
      "----------------------------------------------------------------\n",
      "----------------------------.......-----------------------------\n",
      "---------------------------*xxxxxxxxx*..------------------------\n",
      "-------------------------.*xxxxxxxxxxxxxxx.---------------------\n",
      "-----------------------.*xxx****...**xxxxxx*--------------------\n",
      "----------------------*xxxx*-~~~~~~~~-..xxxx.-------------------\n",
      "--------------------.xxxxx-~~~~~~~~~~~~~~.xxx.------------------\n",
      "--------------------*xxx*~~~~~~~~~~~~~~~~~-xxx.-----------------\n",
      "-------------------*xx*~~~~~~~~~~~~~~~~~~~~-xxx.----------------\n",
      "-----------------.*xxx.---~~~~~~~~~~~~~~~~~~-xx*-.--------------\n",
      "----------------x#########x**..-~--.-~~~~~.*xxxxx#*.------------\n",
      "---------------.#####################x***x##########x-----------\n",
      "---------------x#####################################.----------\n",
      "---------------.x##########################x.**xxx###x----------\n",
      "----------------.#######################x*.~~~~*x*x##x----------\n",
      "----------------.############.x#########x~~~~~~.x*x##x----------\n",
      "----------------.###########.~x#########x~~~~~~*xx###*----------\n",
      "----------------*x##########.~x#########*~~~~~~*x**##.----------\n",
      "----------------xxx########*~~*########x-~~~~~~.x*-xx.----------\n",
      "----------------xx-*x###x*.~~~-x######x-~~~~~~~.x*--------------\n",
      "-----------..***xx*.-----*-~~~~~-..---~~~~~~~~~.x*--------------\n",
      "---------*xxxxxxxxxxx***xxx~~~~~~~~~~~~~~~~~~~~.x*--------------\n",
      "-------.xxxx**.**.**xxxxxx*~~~~~~~~~~~~~~~~~~~~.xx--------------\n",
      "------.xxx*.--------...xxx~~~~~~~~~~~~~~~~~~~~~.x*--------------\n",
      "------*xx.-----------~.xx*~~~~~~~~~~~~~~~~~~~~~-xx.-------------\n",
      "------*x.~------------*xx-~~~~~~~~~~~~~~~~~~~~~-xx.-------------\n",
      "------xx.-------------xx*~~~~~~~~~~~~~~~~~~~~~~.xx--------------\n",
      "------xx.~------------xx*~~~~~~~~~~~~~~~~~~~~~~.x*--------------\n",
      "------*xx.-------~--~-*x.~~~~~~~~~~~~~~~~~~~~~~-xx--------------\n",
      "-------*xx******...-..*x.~~~~~~~~~~~~~~~~~~~~~~-xx.-------------\n",
      "-------.xxxxxxxxxxxxxxxx*~~~~~~~~~~~~~~~~~~~~~~.x*--------------\n",
      "-------*xx*.---...*x*xxx*~~~~~~~~~~~~~~~~~~~~~~-xx--------------\n",
      "-------xx*-~-----~----xx.~~~~~~~~~~~~~~~~~~~~~~.xx--------------\n",
      "------.xx*------------xx*~~~~~~~~~~~~~~~~~~~~~~.x*--------------\n",
      "-------xxxx***..------*xx.~~~~~~~~~~~~~~~~~~~~~-xx--------------\n",
      "-------*xxxxxxxxxxxxxxxxxx~~~~~~~~~~~~~~~~~~~~~~xx.-------------\n",
      "--------.**xx*xxxxxxxxxxxx-~~~~~~~~~~~~~~~~~~~~~xx.-------------\n",
      "---------------.*x.-~~~.x*~~~~~~~~~~~~~~~~~~~~~~xx--------------\n",
      "----------------xx-~~~~~-~~~~~~~~~~~~~~~~~~~~~~~----------------\n",
      "----------------*x-~~~~~~~~~~~~~~~~~~~~~~~~~~~~~----------------\n",
      "----------------xx-~~~~~~~~~~~~~~~~~~~~~~~~~~~~~x*--------------\n",
      "----------------*x-~~~~~~~~~~~~~~~~~~~~~~~~~~~~~xx--------------\n",
      "----------------*x-~~~~~~~~~~~~~~~~~~~~~~~~~~~~~*x.-------------\n",
      "----------------*x.~~~~~~~~~~~~~~~~~~~~~~~~~~~~~*x.-------------\n",
      "----------------.x.~~~~~~~~~~~~~~~~~~~~~~~~~~~~~*x.-------------\n",
      "----------------.x*~~~~~~~~~~~~~~~~~~~~~~~~~~~~~.x.-------------\n",
      "----------------*x*~~~~~~~~~~~~~~~~~~~~~~~~~~~~~*x*-------------\n",
      "----------------*x-~~~~~~~~~~~~~~~~~~~~~~~~~~~~~.x*-------------\n",
      "----------------xx~~~~~~~~~~~~~~~~~~~~~~~~~~~~~~.x*-------------\n",
      "----------------xx.~~~~~~~~~~~~~~~~~~~~~~~~~~~~~-x*-------------\n",
      "----------------*x.~~~~~~~~~~~~~~~~~~~~~~~~~~~~~-x*-------------\n",
      "----------------.x*~~~~~~~~~~~~~~~~~~~~~~~~~~~~~-xx-------------\n",
      "----------------.x*~~~~~~~~~~~~~~~~~~~~~~~~~~~~~-xx-------------\n",
      "----------------*x*~~~~~~~~~~~~~~~~~~~~~~~~~~~~~-xx-------------\n",
      "----------------*#.~~~~~~~~~~~~~~~~~~~~~~~~~~~~~-xx.------------\n",
      "----------------.*-~~~~~~~~~~~~~~~~~~~~~~~~~~~~~~**-------------\n",
      "[[206 206 206 ... 206 206 206]\n",
      " [206 206 206 ... 206 206 206]\n",
      " [206 206 206 ... 206 206 206]\n",
      " ...\n",
      " [206 206 206 ... 206 206 206]\n",
      " [206 206 206 ... 206 206 206]\n",
      " [206 206 206 ... 206 206 206]]\n",
      "----------------------------------------------------------------\n",
      "----------------------------------------------------------------\n",
      "----------------------------------------------------------------\n",
      "----------------------------------------------------------------\n",
      "----------------------------------------------------------------\n",
      "----------------------------------------------------------------\n",
      "----------------------------------------------------------------\n",
      "----------------------------------------------------------------\n",
      "----------------------------------------------------------------\n",
      "----------------------------.......-----------------------------\n",
      "---------------------------*xxxxxxxxx*..------------------------\n",
      "-------------------------.*xxxxxxxxxxxxxxx.---------------------\n",
      "-----------------------.*xxx****...**xxxxxx*--------------------\n",
      "----------------------*xxxx*-~~~~~~~~-..xxxx.-------------------\n",
      "--------------------.xxxxx-~~~~~~~~~~~~~~.xxx.------------------\n",
      "--------------------*xxx*~~~~~~~~~~~~~~~~~-xxx.-----------------\n",
      "-------------------*xx*~~~~~~~~~~~~~~~~~~~~-xxx.----------------\n",
      "-----------------.*xxx.---~~~~~~~~~~~~~~~~~~-xx*-.--------------\n",
      "----------------x#########x**..-~--.-~~~~~.*xxxxx#*.------------\n",
      "---------------.#####################x***x##########x-----------\n",
      "---------------x#####################################.----------\n",
      "---------------.x##########################x.**xxx###x----------\n",
      "----------------.#######################x*.~~~~*x*x##x----------\n",
      "----------------.############.x#########x~~~~~~.x*x##x----------\n",
      "----------------.###########.~x#########x~~~~~~*xx###*----------\n",
      "----------------*x##########.~x#########*~~~~~~*x**##.----------\n",
      "----------------xxx########*~~*########x-~~~~~~.x*-xx.----------\n",
      "----------------xx-*x###x*.~~~-x######x-~~~~~~~.x*--------------\n",
      "-----------..***xx*.-----*-~~~~~-..---~~~~~~~~~.x*--------------\n",
      "---------*xxxxxxxxxxx***xxx~~~~~~~~~~~~~~~~~~~~.x*--------------\n",
      "-------.xxxx**.**.**xxxxxx*~~~~~~~~~~~~~~~~~~~~.xx--------------\n",
      "------.xxx*.--------...xxx~~~~~~~~~~~~~~~~~~~~~.x*--------------\n",
      "------*xx.-----------~.xx*~~~~~~~~~~~~~~~~~~~~~-xx.-------------\n",
      "------*x.~------------*xx-~~~~~~~~~~~~~~~~~~~~~-xx.-------------\n",
      "------xx.-------------xx*~~~~~~~~~~~~~~~~~~~~~~.xx--------------\n",
      "------xx.~------------xx*~~~~~~~~~~~~~~~~~~~~~~.x*--------------\n",
      "------*xx.-------~--~-*x.~~~~~~~~~~~~~~~~~~~~~~-xx--------------\n",
      "-------*xx******...-..*x.~~~~~~~~~~~~~~~~~~~~~~-xx.-------------\n",
      "-------.xxxxxxxxxxxxxxxx*~~~~~~~~~~~~~~~~~~~~~~.x*--------------\n",
      "-------*xx*.---...*x*xxx*~~~~~~~~~~~~~~~~~~~~~~-xx--------------\n",
      "-------xx*-~-----~----xx.~~~~~~~~~~~~~~~~~~~~~~.xx--------------\n",
      "------.xx*------------xx*~~~~~~~~~~~~~~~~~~~~~~.x*--------------\n",
      "-------xxxx***..------*xx.~~~~~~~~~~~~~~~~~~~~~-xx--------------\n",
      "-------*xxxxxxxxxxxxxxxxxx~~~~~~~~~~~~~~~~~~~~~~xx.-------------\n",
      "--------.**xx*xxxxxxxxxxxx-~~~~~~~~~~~~~~~~~~~~~xx.-------------\n",
      "---------------.*x.-~~~.x*~~~~~~~~~~~~~~~~~~~~~~xx--------------\n",
      "----------------xx-~~~~~-~~~~~~~~~~~~~~~~~~~~~~~----------------\n",
      "----------------*x-~~~~~~~~~~~~~~~~~~~~~~~~~~~~~----------------\n",
      "----------------xx-~~~~~~~~~~~~~~~~~~~~~~~~~~~~~x*--------------\n",
      "----------------*x-~~~~~~~~~~~~~~~~~~~~~~~~~~~~~xx--------------\n",
      "----------------*x-~~~~~~~~~~~~~~~~~~~~~~~~~~~~~*x.-------------\n",
      "----------------*x.~~~~~~~~~~~~~~~~~~~~~~~~~~~~~*x.-------------\n",
      "----------------.x.~~~~~~~~~~~~~~~~~~~~~~~~~~~~~*x.-------------\n",
      "----------------.x*~~~~~~~~~~~~~~~~~~~~~~~~~~~~~.x.-------------\n",
      "----------------*x*~~~~~~~~~~~~~~~~~~~~~~~~~~~~~*x*-------------\n",
      "----------------*x-~~~~~~~~~~~~~~~~~~~~~~~~~~~~~.x*-------------\n",
      "----------------xx~~~~~~~~~~~~~~~~~~~~~~~~~~~~~~.x*-------------\n",
      "----------------xx.~~~~~~~~~~~~~~~~~~~~~~~~~~~~~-x*-------------\n",
      "----------------*x.~~~~~~~~~~~~~~~~~~~~~~~~~~~~~-x*-------------\n",
      "----------------.x*~~~~~~~~~~~~~~~~~~~~~~~~~~~~~-xx-------------\n",
      "----------------.x*~~~~~~~~~~~~~~~~~~~~~~~~~~~~~-xx-------------\n",
      "----------------*x*~~~~~~~~~~~~~~~~~~~~~~~~~~~~~-xx-------------\n",
      "----------------*#.~~~~~~~~~~~~~~~~~~~~~~~~~~~~~-xx.------------\n",
      "----------------.*-~~~~~~~~~~~~~~~~~~~~~~~~~~~~~~**-------------\n"
     ]
    },
    {
     "data": {
      "text/plain": [
       "True"
      ]
     },
     "execution_count": 5,
     "metadata": {},
     "output_type": "execute_result"
    },
    {
     "data": {
      "image/png": "[encoded data removed]",
      "text/plain": [
       "<Figure size 432x288 with 1 Axes>"
      ]
     },
     "metadata": {
      "needs_background": "light"
     },
     "output_type": "display_data"
    }
   ],
   "source": [
    "#Exercice 8 à vous de jouer !\n",
    "#<écrivez votre code dans cette cellule juste en dessous de cette ligne> (ici je ne vous tiendrais pas rigueur si vous faites votre code dans plusieurs cellules)\n",
    "%matplotlib inline\n",
    "import matplotlib.pyplot as plt\n",
    "import matplotlib.image as mpimg\n",
    "import numpy as np\n",
    "from PIL import Image\n",
    "\n",
    "def decidepixel(pixelvalue):\n",
    "    if pixelvalue < 32:\n",
    "        return \"@\"\n",
    "    elif pixelvalue < 64:\n",
    "        return \"0\"\n",
    "    elif pixelvalue < 96:\n",
    "        return \"#\"\n",
    "    elif pixelvalue < 128:\n",
    "        return \"x\"\n",
    "    elif pixelvalue < 160:\n",
    "        return \"*\"\n",
    "    elif pixelvalue < 192:\n",
    "        return \".\"\n",
    "    elif pixelvalue < 224:\n",
    "        return \"-\"\n",
    "    else: \n",
    "        return \"~\" \n",
    "\n",
    "def arraytoasciiart(array):\n",
    "    for line in array:\n",
    "        asciiline=\"\"\n",
    "        #print(line)\n",
    "        for pixel in range(len(line)):\n",
    "            asciiline+=decidepixel(line[pixel])\n",
    "        print(asciiline)\n",
    "    return True\n",
    "\n",
    "arraytoasciiart(gray_array)\n",
    "\n",
    "def convertImageToGrayArray(imgFile = \"6527fd2decc4d74572927021830f5c73.jpg\",nombre_pixels = 64):\n",
    "    img = Image.open(imgFile).convert('L') \n",
    "    img.thumbnail((nombre_pixels, nombre_pixels), Image.ANTIALIAS) \n",
    "    grayscale_array = np.asarray(img) \n",
    "    return grayscale_array\n",
    "\n",
    "gray_array = convertImageToGrayArray()  \n",
    "print(gray_array)\n",
    "plt.imshow(gray_array, cmap=\"gray\")\n",
    "arraytoasciiart(gray_array)"
   ]
  },
  {
   "cell_type": "code",
   "execution_count": null,
   "id": "ab24d651",
   "metadata": {},
   "outputs": [],
   "source": [
    "\n"
   ]
  }
 ],
 "metadata": {
  "kernelspec": {
   "display_name": "Python 3 (ipykernel)",
   "language": "python",
   "name": "python3"
  },
  "language_info": {
   "codemirror_mode": {
    "name": "ipython",
    "version": 3
   },
   "file_extension": ".py",
   "mimetype": "text/x-python",
   "name": "python",
   "nbconvert_exporter": "python",
   "pygments_lexer": "ipython3",
   "version": "3.9.7"
  }
 },
 "nbformat": 4,
 "nbformat_minor": 5
}
