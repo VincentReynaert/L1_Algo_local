{
 "cells": [
  {
   "cell_type": "markdown",
   "id": "3b0d5f89",
   "metadata": {},
   "source": [
    "# I. Trouver le nombre entre 0 et 2048\n",
    "## I.1) Choisir le nombre aléatoire"
   ]
  },
  {
   "cell_type": "code",
   "execution_count": 15,
   "id": "18f9c84d",
   "metadata": {},
   "outputs": [],
   "source": [
    "import random as rd\n",
    "\n",
    "MIN = 0\n",
    "MAX = 2048\n",
    "nbToFind = rd.randint(MIN, MAX+1)"
   ]
  },
  {
   "cell_type": "markdown",
   "id": "8af27b74",
   "metadata": {},
   "source": [
    "## I.2) Demander à l'utilisateur un nombre"
   ]
  },
  {
   "cell_type": "code",
   "execution_count": 2,
   "id": "d60e12ba",
   "metadata": {},
   "outputs": [
    {
     "name": "stdout",
     "output_type": "stream",
     "text": [
      "1\n"
     ]
    },
    {
     "data": {
      "text/plain": [
       "'1'"
      ]
     },
     "execution_count": 2,
     "metadata": {},
     "output_type": "execute_result"
    }
   ],
   "source": [
    "input() #sert à demander une entrée textuelle à l'utilisateur"
   ]
  },
  {
   "cell_type": "code",
   "execution_count": 3,
   "id": "801732fe",
   "metadata": {},
   "outputs": [
    {
     "name": "stdout",
     "output_type": "stream",
     "text": [
      "Entrer un nombre : 12\n"
     ]
    },
    {
     "data": {
      "text/plain": [
       "'12'"
      ]
     },
     "execution_count": 3,
     "metadata": {},
     "output_type": "execute_result"
    }
   ],
   "source": [
    "input(\"Entrer un nombre : \") #on a l'option d'ajouter un texte pour préciser à l'utilisateur ce qui est attendu de lui"
   ]
  },
  {
   "cell_type": "code",
   "execution_count": 4,
   "id": "0b39540c",
   "metadata": {},
   "outputs": [
    {
     "name": "stdout",
     "output_type": "stream",
     "text": [
      "Entrer un nombre : 13\n"
     ]
    }
   ],
   "source": [
    "nbToTest = input(\"Entrer un nombre : \") #ici nous enregistrons la valeur donnée par l'utilisateur dans une variable"
   ]
  },
  {
   "cell_type": "code",
   "execution_count": 5,
   "id": "08efec76",
   "metadata": {},
   "outputs": [
    {
     "name": "stdout",
     "output_type": "stream",
     "text": [
      "13\n"
     ]
    }
   ],
   "source": [
    "print(nbToTest) "
   ]
  },
  {
   "cell_type": "code",
   "execution_count": 6,
   "id": "7091aa9b",
   "metadata": {},
   "outputs": [
    {
     "ename": "TypeError",
     "evalue": "'<' not supported between instances of 'str' and 'int'",
     "output_type": "error",
     "traceback": [
      "\u001b[1;31m---------------------------------------------------------------------------\u001b[0m",
      "\u001b[1;31mTypeError\u001b[0m                                 Traceback (most recent call last)",
      "\u001b[1;32m~\\AppData\\Local\\Temp/ipykernel_2596/544807919.py\u001b[0m in \u001b[0;36m<module>\u001b[1;34m\u001b[0m\n\u001b[1;32m----> 1\u001b[1;33m \u001b[0mprint\u001b[0m\u001b[1;33m(\u001b[0m\u001b[0mnbToTest\u001b[0m \u001b[1;33m<\u001b[0m \u001b[0mnbToFind\u001b[0m\u001b[1;33m)\u001b[0m\u001b[1;33m\u001b[0m\u001b[1;33m\u001b[0m\u001b[0m\n\u001b[0m",
      "\u001b[1;31mTypeError\u001b[0m: '<' not supported between instances of 'str' and 'int'"
     ]
    }
   ],
   "source": [
    "print(nbToTest < nbToFind) #ici nous voulons tester si la valeur qu'a donnée l'utilisateur est inférieure à celle choisi par l'ordinateur mais nous avons une erreur dûe au type de donnée que la fonction input() renvoie"
   ]
  },
  {
   "cell_type": "code",
   "execution_count": 7,
   "id": "be1c66b1",
   "metadata": {},
   "outputs": [
    {
     "name": "stdout",
     "output_type": "stream",
     "text": [
      "<class 'str'>\n"
     ]
    }
   ],
   "source": [
    "print(type(nbToTest)) #la fonction input renvoie donc un str soit un string soit une chaine de caractères"
   ]
  },
  {
   "cell_type": "code",
   "execution_count": 8,
   "id": "1ac4d539",
   "metadata": {},
   "outputs": [
    {
     "name": "stdout",
     "output_type": "stream",
     "text": [
      "<class 'int'>\n"
     ]
    }
   ],
   "source": [
    "print(type(nbToFind)) #le nb que nous voulons trouver est un entier et cela n'a donc pas de sens pour l'ordinateur de comparer un nombre entier avec une phrase même si cette phrase pour nous représente un nombre. Il faut donc dire à l'ordinateur que la phrase est un nombre"
   ]
  },
  {
   "cell_type": "code",
   "execution_count": 11,
   "id": "e4f1220b",
   "metadata": {},
   "outputs": [
    {
     "name": "stdout",
     "output_type": "stream",
     "text": [
      "<class 'int'>\n",
      "<class 'int'>\n"
     ]
    }
   ],
   "source": [
    "print(type(eval(nbToTest))) #ici nous demandons à l'ordinateur d'évaluer la chaine de caractère qu'a entré l'utilisateur. Avec cette fonction si l'utilisateur entre uniquement des caractères numériques formant un nombre entier alors le type évalué sera un int si l'utilisateur entre un nombre à virgule (la virgule étant un .) alors la chaine de caractère sera évalué de type float. Nous reviendrons plus tard sur les différents types de données informatiques plus tard.\n",
    "print(type(int(nbToTest))) #ici nous forçons l'ordinateur à prendre notre chaine de caractère comme un nombre entier. Attention, cela ne fonctionnera que si l'utilisateur n'entre effectivement que des caractères numériques."
   ]
  },
  {
   "cell_type": "code",
   "execution_count": 12,
   "id": "82b4e784",
   "metadata": {},
   "outputs": [
    {
     "ename": "NameError",
     "evalue": "name 'raw_input' is not defined",
     "output_type": "error",
     "traceback": [
      "\u001b[1;31m---------------------------------------------------------------------------\u001b[0m",
      "\u001b[1;31mNameError\u001b[0m                                 Traceback (most recent call last)",
      "\u001b[1;32m~\\AppData\\Local\\Temp/ipykernel_2596/1809985966.py\u001b[0m in \u001b[0;36m<module>\u001b[1;34m\u001b[0m\n\u001b[1;32m----> 1\u001b[1;33m \u001b[0mnbToTest\u001b[0m \u001b[1;33m=\u001b[0m \u001b[0mraw_input\u001b[0m\u001b[1;33m(\u001b[0m\u001b[1;34m\"Entrer un nombre : \"\u001b[0m\u001b[1;33m)\u001b[0m\u001b[1;33m\u001b[0m\u001b[1;33m\u001b[0m\u001b[0m\n\u001b[0m\u001b[0;32m      2\u001b[0m \u001b[0mprint\u001b[0m\u001b[1;33m(\u001b[0m\u001b[0mtype\u001b[0m\u001b[1;33m(\u001b[0m\u001b[0meval\u001b[0m\u001b[1;33m(\u001b[0m\u001b[0mnbToTest\u001b[0m\u001b[1;33m)\u001b[0m\u001b[1;33m)\u001b[0m\u001b[1;33m)\u001b[0m\u001b[1;33m\u001b[0m\u001b[1;33m\u001b[0m\u001b[0m\n",
      "\u001b[1;31mNameError\u001b[0m: name 'raw_input' is not defined"
     ]
    }
   ],
   "source": [
    "nbToTest = raw_input(\"Entrer un nombre : \") #ici il s'agit d'une ancienne fonction qui permettait en python2 de directement récupérer l'entré de l'utilisateur sous le type attendu. Mais depuis plusieurs versions cette fonction n'existe plus. Attention lorsque vous programmez donc à la version du langage que vous utilisez et au tutoriel que vous regardez.\n",
    "print(type(nbToTest))"
   ]
  },
  {
   "cell_type": "code",
   "execution_count": 13,
   "id": "eabd7010",
   "metadata": {},
   "outputs": [
    {
     "name": "stdout",
     "output_type": "stream",
     "text": [
      "True\n"
     ]
    }
   ],
   "source": [
    "print(int(nbToTest) < nbToFind) #ici la comparaison fonctionne puisque nous comparons deux nombres entiers entre eux. On obtiendra donc un True, vrai si effectivement l'utilisateur a donné une valeur strictement inférieure à celle générée par l'ordinateur et cela renverra False (faux) sinon (c'est à dire si le nombre donné par l'utilisateur est supérieur OU EGAL à celui généré par l'ordinateur)"
   ]
  },
  {
   "cell_type": "markdown",
   "id": "1b110d00",
   "metadata": {},
   "source": [
    "## I.3) Automatiser l'input et condition de victoire !"
   ]
  },
  {
   "cell_type": "code",
   "execution_count": 17,
   "id": "a49bc983",
   "metadata": {},
   "outputs": [
    {
     "name": "stdout",
     "output_type": "stream",
     "text": [
      "Entrer un nombre : 102\n",
      "Bravo ! vous avez trouvé le bon nombre : 102\n"
     ]
    }
   ],
   "source": [
    "nbToTest = int(input(\"Entrer un nombre : \")) # on commence par demander un nombre à l'utilisateur mais cette fois on l'enregistre en forçant le type en int (entier) pour ne pas devoir le faire à chaque fois qu'on voudra comparer notre variable avec le nbToFind\n",
    "while nbToTest != nbToFind : # tant que le nb donné par l'utilisateur est différent (!=) de celui à trouver alors on fait les instruction suivante. Attention à la syntaxe Python qui demande de respecter une certaine incrémentation(tabulation) et d'utiliser : pour introduire le début de la suite d'instruction à exécuter en boucle  \n",
    "    if nbToTest < nbToFind : # if = si nbToTest est strictement inférieur à nbToFind \n",
    "        print('Votre nombre est strictement inférieur')# alors on affiche\n",
    "    else : # ici le sinon correspond à la condition strictement supérieur puisque nous avons déjà écarté la possibilité qu'il soit égale\n",
    "        print('Votre nombre est strictement supérieur')\n",
    "    nbToTest = int(input(\"Entrer un nouveau nombre : \"))\n",
    "print(\"Bravo ! vous avez trouvé le bon nombre : \" + str(nbToFind))"
   ]
  },
  {
   "cell_type": "markdown",
   "id": "450ac681",
   "metadata": {},
   "source": [
    "# II. Définir des fonctions\n",
    "## II.1) Fonction élémentaire\n",
    "Voici comment on définit une fonction.\n",
    "Cette fonction ne prend rien en entrée et ne retourne rien en sortie, elle ne fait rien non plus (pass)"
   ]
  },
  {
   "cell_type": "code",
   "execution_count": 19,
   "id": "c589a42c",
   "metadata": {},
   "outputs": [],
   "source": [
    "def fonction_elementaire():\n",
    "    pass"
   ]
  },
  {
   "cell_type": "markdown",
   "id": "2213c07b",
   "metadata": {},
   "source": [
    "## II.2) Fonction Personnalisée"
   ]
  },
  {
   "cell_type": "code",
   "execution_count": 17,
   "id": "6f0ce849",
   "metadata": {},
   "outputs": [],
   "source": [
    "def caesar_code(msg,key):\n",
    "    print(msg, key)\n",
    "    res_msg = ''.join([chr((ord(i.upper())-ord('A')+key)%26+ord('A')) for i in msg])\n",
    "    return res_msg\n",
    "\n",
    "def caesar_code_bis(msg,key):    \n",
    "    print(msg, key)\n",
    "    res_msg = '' # on initialise la variable res_msg qui correspond à notre message codé\n",
    "    for i in msg: # pour i qui parcours la chaine de caractères msg (à chaque passage dans la boucle i prendra comme valeur le charactère suivant dans la chaîne de caractère)\n",
    "        i_majuscule = i.upper() # on transforme le message en majuscule pour simplifier le traitement (on pourrait choisir de passer par les minuscules via la fonction lower()) \n",
    "        indice_alphabet_i = ord(i_majuscule) - ord('A') # la fonction ord() donne la correspondance entre un caractère et son code ASCII qui est un nombre entier. le fait de soustraire ord('A') à un caractère qu'on sait est une lettre majuscule permet de retrouver le numéro de cette lettre dans l'alphabet\n",
    "        indice_alphabet_i_code = (indice_alphabet_i + key)%26 # on ajoute la clé de codage à l'indice de i pour obtenir l'indice du caractère correspondant pour le message codé et on utilise l'opérateur % qui est un modulo. C'est à dire que cette opérateur permet des rester entre 0 et 25 (26%26=0, 27%26=1, 28%26=2, 52%26=0,53%26=1 etc.) cela permet si on a par exemple un Z dans le message initial et que nous y ajoutons une clé de 1 de revenir à A\n",
    "        i_code = chr(indice_alphabet_i_code + ord('A')) # chr() transforme un nombre entier en caractère suivant la correspondance dans la table ASCII, c'est pourquoi on ajoute ord('A') à l'indice du caractère \n",
    "        res_msg += i_code # l'opération += permet d'ajouter un élément au bout d'une liste ou d'une chaine de caractère\n",
    "    return res_msg"
   ]
  },
  {
   "cell_type": "code",
   "execution_count": 18,
   "id": "1e9609a3",
   "metadata": {},
   "outputs": [
    {
     "name": "stdout",
     "output_type": "stream",
     "text": [
      "HelloWorld 0\n",
      "HELLOWORLD\n",
      "HelloWorld 0\n",
      "HELLOWORLD\n",
      "HelloWorld 1\n",
      "IFMMPXPSME\n",
      "HelloWorld 1\n",
      "IFMMPXPSME\n",
      "HelloWorld 2\n",
      "JGNNQYQTNF\n",
      "HelloWorld 2\n",
      "JGNNQYQTNF\n",
      "HelloWorld 3\n",
      "KHOORZRUOG\n",
      "HelloWorld 3\n",
      "KHOORZRUOG\n",
      "HelloWorld 4\n",
      "LIPPSASVPH\n",
      "HelloWorld 4\n",
      "LIPPSASVPH\n",
      "HelloWorld 5\n",
      "MJQQTBTWQI\n",
      "HelloWorld 5\n",
      "MJQQTBTWQI\n",
      "HelloWorld 6\n",
      "NKRRUCUXRJ\n",
      "HelloWorld 6\n",
      "NKRRUCUXRJ\n",
      "HelloWorld 7\n",
      "OLSSVDVYSK\n",
      "HelloWorld 7\n",
      "OLSSVDVYSK\n",
      "HelloWorld 8\n",
      "PMTTWEWZTL\n",
      "HelloWorld 8\n",
      "PMTTWEWZTL\n",
      "HelloWorld 9\n",
      "QNUUXFXAUM\n",
      "HelloWorld 9\n",
      "QNUUXFXAUM\n",
      "HelloWorld 10\n",
      "ROVVYGYBVN\n",
      "HelloWorld 10\n",
      "ROVVYGYBVN\n",
      "HelloWorld 11\n",
      "SPWWZHZCWO\n",
      "HelloWorld 11\n",
      "SPWWZHZCWO\n",
      "HelloWorld 12\n",
      "TQXXAIADXP\n",
      "HelloWorld 12\n",
      "TQXXAIADXP\n",
      "HelloWorld 13\n",
      "URYYBJBEYQ\n",
      "HelloWorld 13\n",
      "URYYBJBEYQ\n",
      "HelloWorld 14\n",
      "VSZZCKCFZR\n",
      "HelloWorld 14\n",
      "VSZZCKCFZR\n",
      "HelloWorld 15\n",
      "WTAADLDGAS\n",
      "HelloWorld 15\n",
      "WTAADLDGAS\n",
      "HelloWorld 16\n",
      "XUBBEMEHBT\n",
      "HelloWorld 16\n",
      "XUBBEMEHBT\n",
      "HelloWorld 17\n",
      "YVCCFNFICU\n",
      "HelloWorld 17\n",
      "YVCCFNFICU\n",
      "HelloWorld 18\n",
      "ZWDDGOGJDV\n",
      "HelloWorld 18\n",
      "ZWDDGOGJDV\n",
      "HelloWorld 19\n",
      "AXEEHPHKEW\n",
      "HelloWorld 19\n",
      "AXEEHPHKEW\n",
      "HelloWorld 20\n",
      "BYFFIQILFX\n",
      "HelloWorld 20\n",
      "BYFFIQILFX\n",
      "HelloWorld 21\n",
      "CZGGJRJMGY\n",
      "HelloWorld 21\n",
      "CZGGJRJMGY\n",
      "HelloWorld 22\n",
      "DAHHKSKNHZ\n",
      "HelloWorld 22\n",
      "DAHHKSKNHZ\n",
      "HelloWorld 23\n",
      "EBIILTLOIA\n",
      "HelloWorld 23\n",
      "EBIILTLOIA\n",
      "HelloWorld 24\n",
      "FCJJMUMPJB\n",
      "HelloWorld 24\n",
      "FCJJMUMPJB\n",
      "HelloWorld 25\n",
      "GDKKNVNQKC\n",
      "HelloWorld 25\n",
      "GDKKNVNQKC\n",
      "HelloWorld 26\n",
      "HELLOWORLD\n",
      "HelloWorld 26\n",
      "HELLOWORLD\n",
      "HelloWorld 27\n",
      "IFMMPXPSME\n",
      "HelloWorld 27\n",
      "IFMMPXPSME\n"
     ]
    }
   ],
   "source": [
    "for i in range(28):\n",
    "    print(caesar_code(\"HelloWorld\",i))\n",
    "    print(caesar_code_bis(\"HelloWorld\",i))"
   ]
  },
  {
   "cell_type": "markdown",
   "id": "d70b5e36",
   "metadata": {},
   "source": [
    "# III. Variables, Types et Turtle"
   ]
  },
  {
   "cell_type": "markdown",
   "id": "5d3cdb20",
   "metadata": {},
   "source": [
    "## III.1) Variables"
   ]
  },
  {
   "cell_type": "code",
   "execution_count": 19,
   "id": "d602af9a",
   "metadata": {},
   "outputs": [],
   "source": [
    "a = 1"
   ]
  },
  {
   "cell_type": "code",
   "execution_count": 20,
   "id": "3b4941af",
   "metadata": {},
   "outputs": [
    {
     "data": {
      "text/plain": [
       "1"
      ]
     },
     "execution_count": 20,
     "metadata": {},
     "output_type": "execute_result"
    }
   ],
   "source": [
    "a"
   ]
  },
  {
   "cell_type": "code",
   "execution_count": 21,
   "id": "e83f584f",
   "metadata": {},
   "outputs": [
    {
     "name": "stdout",
     "output_type": "stream",
     "text": [
      "1\n"
     ]
    }
   ],
   "source": [
    "print(a)"
   ]
  },
  {
   "cell_type": "code",
   "execution_count": 22,
   "id": "128ea84d",
   "metadata": {},
   "outputs": [
    {
     "data": {
      "text/plain": [
       "3"
      ]
     },
     "execution_count": 22,
     "metadata": {},
     "output_type": "execute_result"
    }
   ],
   "source": [
    "a + 2"
   ]
  },
  {
   "cell_type": "code",
   "execution_count": 23,
   "id": "b07fa4a4",
   "metadata": {},
   "outputs": [
    {
     "data": {
      "text/plain": [
       "1"
      ]
     },
     "execution_count": 23,
     "metadata": {},
     "output_type": "execute_result"
    }
   ],
   "source": [
    "a"
   ]
  },
  {
   "cell_type": "code",
   "execution_count": 24,
   "id": "e8cd00a2",
   "metadata": {},
   "outputs": [],
   "source": [
    "a += 2"
   ]
  },
  {
   "cell_type": "code",
   "execution_count": 25,
   "id": "04d3387a",
   "metadata": {},
   "outputs": [
    {
     "data": {
      "text/plain": [
       "3"
      ]
     },
     "execution_count": 25,
     "metadata": {},
     "output_type": "execute_result"
    }
   ],
   "source": [
    "a"
   ]
  },
  {
   "cell_type": "code",
   "execution_count": 26,
   "id": "94417edd",
   "metadata": {},
   "outputs": [
    {
     "data": {
      "text/plain": [
       "3"
      ]
     },
     "execution_count": 26,
     "metadata": {},
     "output_type": "execute_result"
    }
   ],
   "source": [
    "b = a\n",
    "b"
   ]
  },
  {
   "cell_type": "code",
   "execution_count": 27,
   "id": "ffa95f23",
   "metadata": {},
   "outputs": [],
   "source": [
    "b += 2"
   ]
  },
  {
   "cell_type": "code",
   "execution_count": 28,
   "id": "c24acbb0",
   "metadata": {},
   "outputs": [
    {
     "name": "stdout",
     "output_type": "stream",
     "text": [
      "3\n",
      "5\n"
     ]
    }
   ],
   "source": [
    "print(a)\n",
    "print(b)"
   ]
  },
  {
   "cell_type": "code",
   "execution_count": 29,
   "id": "167c1178",
   "metadata": {},
   "outputs": [
    {
     "name": "stdout",
     "output_type": "stream",
     "text": [
      "[1, 2, 5]\n",
      "[1, 2, 5]\n"
     ]
    }
   ],
   "source": [
    "a = [1,2,5] # les [] servent à définir une liste donc les élément sont séparés par des ,\n",
    "b = a\n",
    "print(a)\n",
    "print(b)"
   ]
  },
  {
   "cell_type": "code",
   "execution_count": 31,
   "id": "35e4728c",
   "metadata": {},
   "outputs": [],
   "source": [
    "b.append(4) # append() ajoute un element à la fin de la liste ou ajoute un liste d'élément en fonction de ce qu'on y met en entrée"
   ]
  },
  {
   "cell_type": "code",
   "execution_count": 32,
   "id": "c8503fa7",
   "metadata": {},
   "outputs": [
    {
     "name": "stdout",
     "output_type": "stream",
     "text": [
      "[1, 2, 5, 4]\n",
      "[1, 2, 5, 4]\n"
     ]
    }
   ],
   "source": [
    "print(a)\n",
    "print(b)"
   ]
  },
  {
   "cell_type": "markdown",
   "id": "a8ed3062",
   "metadata": {},
   "source": [
    "Attention au type des variables que vous créez ! \n",
    "En l'occurrence ici, lorsque l'on stocke un entier dans a et que l'on écrit b=a c'est la valeur stockée dans a qui va être stocké dans b\n",
    "Cependant lorsque l'on utilise une liste ce qu'on l'on stocke dans a n'est pas directement la liste mais un \"pointeur\" vers cette liste. Le pointeur correspond à l'adresse à laquelle est stockée la liste. Donc lorsque l'on écrit b=a c'est le pointeur que l'on stocke dans b. a et b stockent donc tous les deux le même pointeur et lorsque l'on modifie la liste associée à ce pointeur en passant par b alors lorsqu'on affiche a on affiche la liste modifiée.\n",
    "\n",
    "Pour éviter ce problème, si on veut copier une liste dans une nouvelle variable il faudra utiliser la fonction copy() comme suit :"
   ]
  },
  {
   "cell_type": "code",
   "execution_count": 33,
   "id": "eb96544d",
   "metadata": {},
   "outputs": [
    {
     "name": "stdout",
     "output_type": "stream",
     "text": [
      "[1, 2, 5, 4]\n",
      "[1, 2, 5, 4, 'toto']\n"
     ]
    }
   ],
   "source": [
    "b = a.copy()\n",
    "b.append('toto')\n",
    "print(a)\n",
    "print(b)"
   ]
  },
  {
   "cell_type": "markdown",
   "id": "4d675a72",
   "metadata": {},
   "source": [
    "Autre point important, en python les listes sont un peu différente de ce que vous pourrez trouver dans d'autres langages informatique puisqu'elles permettent de stocker plusieurs types d'éléments différents dans une même liste.\n",
    "Généralement lorsque l'on crée un liste par exemple en C# (se prononce Csharp et est le langage de programmation utilisé sous Unity), il faut définir le type des éléments que nous souhaitons stocker dans cette liste à l'avance et on ne pourra alors plus y stocker d'élément d'un autre type.\n",
    "\n",
    "## III.2) Les types"
   ]
  },
  {
   "cell_type": "code",
   "execution_count": 11,
   "id": "230aaa20",
   "metadata": {},
   "outputs": [
    {
     "name": "stdout",
     "output_type": "stream",
     "text": [
      "<class 'int'>\n",
      "<class 'int'>\n",
      "<class 'float'>\n",
      "<class 'float'>\n",
      "<class 'str'>\n",
      "<class 'str'>\n",
      "<class 'str'>\n",
      "<class 'str'>\n",
      "<class 'str'>\n",
      "<class 'str'>\n",
      "<class 'list'>\n",
      "<class 'list'>\n",
      "<class 'list'>\n",
      "<class 'list'>\n",
      "<class 'tuple'>\n",
      "<class 'tuple'>\n",
      "<class 'tuple'>\n",
      "<class 'dict'>\n",
      "<class 'dict'>\n",
      "<class 'dict'>\n",
      "<class 'str'>\n"
     ]
    }
   ],
   "source": [
    "print(type(1))\n",
    "print(type(12))\n",
    "print(type(1.0))\n",
    "print(type(1.5))\n",
    "print(type(''))\n",
    "print(type('1'))\n",
    "print(type('un'))\n",
    "print(type(\"\"))\n",
    "print(type(\"1\"))\n",
    "print(type(\"un\"))\n",
    "print(type(\"\"\"un\"\"\"))\n",
    "print(type([]))\n",
    "print(type([1]))\n",
    "print(type([1,1]))\n",
    "print(type([1.5,1]))\n",
    "print(type(()))\n",
    "print(type((1,2)))\n",
    "print(type((1,'1')))\n",
    "print(type({}))\n",
    "print(type({}))\n",
    "print(type({}))"
   ]
  },
  {
   "cell_type": "code",
   "execution_count": null,
   "id": "5aad1271",
   "metadata": {},
   "outputs": [],
   "source": []
  },
  {
   "cell_type": "code",
   "execution_count": null,
   "id": "6c3127cc",
   "metadata": {},
   "outputs": [],
   "source": []
  }
 ],
 "metadata": {
  "kernelspec": {
   "display_name": "Python 3 (ipykernel)",
   "language": "python",
   "name": "python3"
  },
  "language_info": {
   "codemirror_mode": {
    "name": "ipython",
    "version": 3
   },
   "file_extension": ".py",
   "mimetype": "text/x-python",
   "name": "python",
   "nbconvert_exporter": "python",
   "pygments_lexer": "ipython3",
   "version": "3.9.7"
  }
 },
 "nbformat": 4,
 "nbformat_minor": 5
}
