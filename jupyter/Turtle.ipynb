{
 "cells": [
  {
   "cell_type": "code",
   "execution_count": 1,
   "id": "e76029a9",
   "metadata": {},
   "outputs": [],
   "source": [
    "import turtle as tt\n",
    "\n",
    "# s = tt.getscreen()\n",
    "tt.forward(90)\n",
    "tt.right(90)\n",
    "tt.color(0.1,1,0)\n",
    "tt.backward(90)"
   ]
  },
  {
   "cell_type": "code",
   "execution_count": 2,
   "id": "a40de3c4",
   "metadata": {},
   "outputs": [],
   "source": [
    "tt.reset()"
   ]
  },
  {
   "cell_type": "code",
   "execution_count": 3,
   "id": "9d54cd9f",
   "metadata": {},
   "outputs": [],
   "source": [
    "tt.reset()\n",
    "tt.pensize(5)\n",
    "n=30  \n",
    "tt.speed(1)\n",
    "for i in range(n):    \n",
    "    tt.speed((i+2)//2)\n",
    "    tt.pencolor(abs(n/2-i)*2/n,abs(i+1-n/2)*2/n,abs(i+1-n/2)*2/n)\n",
    "    tt.circle(80)\n",
    "    tt.left(360/n)"
   ]
  },
  {
   "cell_type": "code",
   "execution_count": 3,
   "id": "b65c8d82",
   "metadata": {},
   "outputs": [],
   "source": [
    "tt.reset()"
   ]
  },
  {
   "cell_type": "code",
   "execution_count": 4,
   "id": "d369bbf2",
   "metadata": {},
   "outputs": [],
   "source": [
    "def move_turtle_in_good_direction(lettre,distance):\n",
    "    actual_position = tt.position()\n",
    "    if lettre == 'Z':\n",
    "        tt.setpos((actual_position[0],actual_position[1]+distance))\n",
    "    elif lettre == 'S':\n",
    "        tt.setpos((actual_position[0],actual_position[1]-distance))\n",
    "    elif lettre == 'Q':\n",
    "        tt.setpos((actual_position[0]-distance,actual_position[1]))\n",
    "    elif lettre == 'D':\n",
    "        tt.setpos((actual_position[0]+distance,actual_position[1]))"
   ]
  },
  {
   "cell_type": "code",
   "execution_count": 5,
   "id": "4203ca8a",
   "metadata": {},
   "outputs": [],
   "source": [
    "def drawFromZQSD(ZQSD_string,distance=100):\n",
    "    \"\"\"Cette fonction trace le chemin de la tortue à partir d'un chaine de caractères Z,Q,S,D ou chaque lettre correspond à une direction dans laquelle devra avancer la tortue:\n",
    "    Args : \n",
    "    ZQSD_string (string): la chaine de caractère prise en entrée et devant contenir uniquement les lettre Z,Q,S,D. Tout autre caractère stoppera la fonction.\n",
    "    Return:\n",
    "    (bool) : Vraie si la chaine ne contient pas d'autre caractère que Z,Q,S et D, Faux sinon \"\"\"\n",
    "    \n",
    "    # initialisation des variables utiles pour la suite de la fonction\n",
    "    autorised_char = ['Z','Q','S','D'] # une liste des caractères autorisés\n",
    "    \n",
    "    for lettre in ZQSD_string.upper():\n",
    "        if lettre in autorised_char:\n",
    "            print(lettre)\n",
    "            move_turtle_in_good_direction(lettre,distance)\n",
    "        else :\n",
    "            return False\n",
    "    return True"
   ]
  },
  {
   "cell_type": "code",
   "execution_count": 6,
   "id": "db94ab24",
   "metadata": {},
   "outputs": [
    {
     "name": "stdout",
     "output_type": "stream",
     "text": [
      "Z\n",
      "Q\n",
      "S\n",
      "D\n"
     ]
    },
    {
     "data": {
      "text/plain": [
       "True"
      ]
     },
     "execution_count": 6,
     "metadata": {},
     "output_type": "execute_result"
    }
   ],
   "source": [
    "drawFromZQSD('ZQSD')"
   ]
  },
  {
   "cell_type": "code",
   "execution_count": 7,
   "id": "66ba4503",
   "metadata": {},
   "outputs": [
    {
     "name": "stdout",
     "output_type": "stream",
     "text": [
      "Z\n",
      "Q\n"
     ]
    },
    {
     "data": {
      "text/plain": [
       "False"
      ]
     },
     "execution_count": 7,
     "metadata": {},
     "output_type": "execute_result"
    }
   ],
   "source": [
    "drawFromZQSD('ZQESD')"
   ]
  },
  {
   "cell_type": "code",
   "execution_count": null,
   "id": "c1439c22",
   "metadata": {},
   "outputs": [],
   "source": []
  },
  {
   "cell_type": "code",
   "execution_count": 8,
   "id": "8afa492f",
   "metadata": {},
   "outputs": [
    {
     "name": "stdout",
     "output_type": "stream",
     "text": [
      "zsqdsssdddddd\n",
      "Z\n",
      "S\n",
      "Q\n",
      "D\n",
      "S\n",
      "S\n",
      "S\n",
      "D\n",
      "D\n",
      "D\n",
      "D\n",
      "D\n",
      "D\n",
      "a\n"
     ]
    }
   ],
   "source": [
    "while drawFromZQSD(input()):\n",
    "    pass"
   ]
  },
  {
   "cell_type": "code",
   "execution_count": 9,
   "id": "b4e8b6aa",
   "metadata": {},
   "outputs": [
    {
     "name": "stdout",
     "output_type": "stream",
     "text": [
      "Z\n",
      "Z\n",
      "Z\n",
      "Q\n",
      "Q\n",
      "S\n",
      "D\n",
      "D\n",
      "S\n",
      "Q\n",
      "Q\n"
     ]
    }
   ],
   "source": [
    "import keyboard\n",
    "while drawFromZQSD(keyboard.read_key()):\n",
    "    pass"
   ]
  },
  {
   "cell_type": "code",
   "execution_count": null,
   "id": "8bf7e6a3",
   "metadata": {},
   "outputs": [],
   "source": []
  },
  {
   "cell_type": "code",
   "execution_count": null,
   "id": "2e0ad3b8",
   "metadata": {},
   "outputs": [],
   "source": []
  },
  {
   "cell_type": "code",
   "execution_count": null,
   "id": "f41ecea5",
   "metadata": {},
   "outputs": [],
   "source": []
  },
  {
   "cell_type": "code",
   "execution_count": null,
   "id": "66a7d789",
   "metadata": {},
   "outputs": [],
   "source": []
  }
 ],
 "metadata": {
  "kernelspec": {
   "display_name": "Python 3 (ipykernel)",
   "language": "python",
   "name": "python3"
  },
  "language_info": {
   "codemirror_mode": {
    "name": "ipython",
    "version": 3
   },
   "file_extension": ".py",
   "mimetype": "text/x-python",
   "name": "python",
   "nbconvert_exporter": "python",
   "pygments_lexer": "ipython3",
   "version": "3.9.7"
  }
 },
 "nbformat": 4,
 "nbformat_minor": 5
}
